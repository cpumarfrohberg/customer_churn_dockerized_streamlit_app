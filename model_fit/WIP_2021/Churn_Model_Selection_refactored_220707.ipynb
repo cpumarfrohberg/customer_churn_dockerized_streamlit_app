{
 "cells": [
  {
   "cell_type": "markdown",
   "metadata": {
    "id": "wOwjPJwVhp6T"
   },
   "source": [
    "# Customer Churn - Savings Bank"
   ]
  },
  {
   "cell_type": "code",
   "execution_count": null,
   "metadata": {},
   "outputs": [],
   "source": [
    "# TO DO:\n",
<<<<<<< HEAD
    "## train a NB-classifier\n",
    "## refactor performance (redundant in its current version), incl. summary of model performance\n",
    "## fit best model on complete X_train and save it\n",
=======
    "## refactor performance (redundant in its current version), incl. summary of model performance\n",
    "## fit DT model on complete X_train and save \n",
>>>>>>> 2433158802db89566feea39e72201de156d295dc
    "## transform to .py-script\n",
    "## decide: deployment on mlFlow (or on EC2)"
   ]
  },
  {
   "cell_type": "code",
   "execution_count": 1,
   "metadata": {
    "colab": {
     "base_uri": "https://localhost:8080/"
    },
    "id": "FhyRUr4Rhp6U",
    "outputId": "588dc42d-dc2a-4c87-eaa5-98c239831cea"
   },
   "outputs": [],
   "source": [
    "import pandas as pd\n",
    "import numpy as np\n",
    "import matplotlib.pyplot as plt\n",
    "\n",
    "from sklearn.linear_model import LogisticRegression\n",
    "from sklearn.tree import DecisionTreeClassifier\n",
    "from sklearn.ensemble import RandomForestClassifier\n",
    "from sklearn.naive_bayes import BernoulliNB\n",
    "from sklearn.model_selection import train_test_split, GridSearchCV\n",
    "from sklearn.preprocessing import MinMaxScaler, OneHotEncoder, KBinsDiscretizer\n",
    "from sklearn.pipeline import Pipeline\n",
    "from sklearn.compose import ColumnTransformer\n",
    "from sklearn.metrics import plot_roc_curve, confusion_matrix, roc_auc_score, f1_score\n",
    "\n",
    "import warnings\n",
    "warnings.filterwarnings(\"ignore\")"
   ]
  },
  {
   "cell_type": "code",
   "execution_count": 2,
   "metadata": {},
   "outputs": [],
   "source": [
    "def include_timestamps(df):\n",
    "    \"\"\"Returns a DataFrame including timestamps for months and years.\n",
    "    Takes initial DataFrame\"\"\"\n",
    "    df[\"Year\"] = df.index.year\n",
    "    df[\"Month\"] = df.index.month\n",
    "    return df"
   ]
  },
  {
   "cell_type": "code",
   "execution_count": 3,
   "metadata": {},
   "outputs": [],
   "source": [
    "def performance_metrics(y_val, y_pred):\n",
    "    \"\"\"Returns roc-auc- and f1-scores predictors.\n",
    "    Takes labels and prediction Series.\"\"\"\n",
    "    \n",
    "    metrics = [\"roc_auc_score\", \"f1_score\"]\n",
    "\n",
    "    for metric in metrics:\n",
    "        auc = round(roc_auc_score(y_val, y_pred), 2)\n",
    "        f1 = round(f1_score(y_val, y_pred), 2)\n",
    "    print(f\"Classifier has an ROC-AUC-score of {auc} and an f1-score of {f1}\")"
   ]
  },
  {
   "cell_type": "code",
   "execution_count": 4,
   "metadata": {},
   "outputs": [],
   "source": [
    "def model_fit(model, df, labels):\n",
    "   \"\"\"Returns fitted model.\n",
    "   Takes model to be fit, transformed dataset and labels\"\"\"\n",
    "   df = df.copy()\n",
    "   labels = labels.copy()\n",
    "   return model.fit(df, labels) "
   ]
  },
  {
   "cell_type": "markdown",
   "metadata": {
    "id": "1UHog3Q8hp6V"
   },
   "source": [
    "### Reading in and inspecting data"
   ]
  },
  {
   "cell_type": "code",
   "execution_count": 5,
   "metadata": {
    "id": "8sXcgAu0hp6V"
   },
   "outputs": [],
   "source": [
    "df = pd.read_csv(\"../data/Tabla_01_English_Unique_postEDA.csv\", index_col=0, parse_dates=True)"
   ]
  },
  {
   "cell_type": "code",
   "execution_count": 6,
   "metadata": {
    "colab": {
     "base_uri": "https://localhost:8080/"
    },
    "id": "4CPkYId1hp6W",
    "outputId": "bcd49173-2dd7-457c-ae5e-bf045113f885"
   },
   "outputs": [
    {
     "data": {
      "text/plain": [
       "(4304, 24)"
      ]
     },
     "execution_count": 6,
     "metadata": {},
     "output_type": "execute_result"
    }
   ],
   "source": [
    "df.shape"
   ]
  },
  {
   "cell_type": "code",
   "execution_count": 7,
   "metadata": {},
   "outputs": [
    {
     "data": {
      "text/html": [
       "<div>\n",
       "<style scoped>\n",
       "    .dataframe tbody tr th:only-of-type {\n",
       "        vertical-align: middle;\n",
       "    }\n",
       "\n",
       "    .dataframe tbody tr th {\n",
       "        vertical-align: top;\n",
       "    }\n",
       "\n",
       "    .dataframe thead th {\n",
       "        text-align: right;\n",
       "    }\n",
       "</style>\n",
       "<table border=\"1\" class=\"dataframe\">\n",
       "  <thead>\n",
       "    <tr style=\"text-align: right;\">\n",
       "      <th></th>\n",
       "      <th>Client_ID</th>\n",
       "      <th>Resident_Capital</th>\n",
       "      <th>Client_Age_Years</th>\n",
       "      <th>Client_Sex</th>\n",
       "      <th>Client_Married</th>\n",
       "      <th>Amount_Last_Disbursement</th>\n",
       "      <th>n(Months)_Since_Last_Disbursement</th>\n",
       "      <th>n(Months)_Client_Relationship</th>\n",
       "      <th>n(Months)_LO_Active_Employee</th>\n",
       "      <th>Client_Status_Post3Months</th>\n",
       "      <th>...</th>\n",
       "      <th>n(Loans)_Outstanding_Other</th>\n",
       "      <th>n(Additional_Loans)_Post3Months</th>\n",
       "      <th>n(Additional_Loans)_Post6Months</th>\n",
       "      <th>Total_Accumulated_Interest_per_Client</th>\n",
       "      <th>LO_Active_Employee_Prior3Months</th>\n",
       "      <th>LO_Active_Employee_Prior6Months</th>\n",
       "      <th>n(Additional_Loans)_Pre3Months</th>\n",
       "      <th>n(Additional_Loans)_Pre6Months</th>\n",
       "      <th>LO_Changed</th>\n",
       "      <th>n(Months)_Change_LO</th>\n",
       "    </tr>\n",
       "    <tr>\n",
       "      <th>Fecha Cierre</th>\n",
       "      <th></th>\n",
       "      <th></th>\n",
       "      <th></th>\n",
       "      <th></th>\n",
       "      <th></th>\n",
       "      <th></th>\n",
       "      <th></th>\n",
       "      <th></th>\n",
       "      <th></th>\n",
       "      <th></th>\n",
       "      <th></th>\n",
       "      <th></th>\n",
       "      <th></th>\n",
       "      <th></th>\n",
       "      <th></th>\n",
       "      <th></th>\n",
       "      <th></th>\n",
       "      <th></th>\n",
       "      <th></th>\n",
       "      <th></th>\n",
       "      <th></th>\n",
       "    </tr>\n",
       "  </thead>\n",
       "  <tbody>\n",
       "    <tr>\n",
       "      <th>2018-01-31</th>\n",
       "      <td>1090100000183</td>\n",
       "      <td>1</td>\n",
       "      <td>67</td>\n",
       "      <td>1</td>\n",
       "      <td>0</td>\n",
       "      <td>66500.0</td>\n",
       "      <td>57</td>\n",
       "      <td>74</td>\n",
       "      <td>19</td>\n",
       "      <td>1</td>\n",
       "      <td>...</td>\n",
       "      <td>2</td>\n",
       "      <td>0</td>\n",
       "      <td>0</td>\n",
       "      <td>19</td>\n",
       "      <td>1</td>\n",
       "      <td>1</td>\n",
       "      <td>0</td>\n",
       "      <td>0</td>\n",
       "      <td>1</td>\n",
       "      <td>13</td>\n",
       "    </tr>\n",
       "    <tr>\n",
       "      <th>2018-01-31</th>\n",
       "      <td>1090100003778</td>\n",
       "      <td>1</td>\n",
       "      <td>59</td>\n",
       "      <td>1</td>\n",
       "      <td>1</td>\n",
       "      <td>22000.0</td>\n",
       "      <td>0</td>\n",
       "      <td>81</td>\n",
       "      <td>45</td>\n",
       "      <td>0</td>\n",
       "      <td>...</td>\n",
       "      <td>1</td>\n",
       "      <td>0</td>\n",
       "      <td>0</td>\n",
       "      <td>127</td>\n",
       "      <td>1</td>\n",
       "      <td>1</td>\n",
       "      <td>1</td>\n",
       "      <td>1</td>\n",
       "      <td>0</td>\n",
       "      <td>0</td>\n",
       "    </tr>\n",
       "    <tr>\n",
       "      <th>2018-01-31</th>\n",
       "      <td>1090100003930</td>\n",
       "      <td>1</td>\n",
       "      <td>65</td>\n",
       "      <td>1</td>\n",
       "      <td>0</td>\n",
       "      <td>18000.0</td>\n",
       "      <td>1</td>\n",
       "      <td>31</td>\n",
       "      <td>24</td>\n",
       "      <td>0</td>\n",
       "      <td>...</td>\n",
       "      <td>2</td>\n",
       "      <td>0</td>\n",
       "      <td>0</td>\n",
       "      <td>0</td>\n",
       "      <td>1</td>\n",
       "      <td>1</td>\n",
       "      <td>1</td>\n",
       "      <td>1</td>\n",
       "      <td>0</td>\n",
       "      <td>0</td>\n",
       "    </tr>\n",
       "  </tbody>\n",
       "</table>\n",
       "<p>3 rows × 24 columns</p>\n",
       "</div>"
      ],
      "text/plain": [
       "                  Client_ID  Resident_Capital  Client_Age_Years  Client_Sex  \\\n",
       "Fecha Cierre                                                                  \n",
       "2018-01-31    1090100000183                 1                67           1   \n",
       "2018-01-31    1090100003778                 1                59           1   \n",
       "2018-01-31    1090100003930                 1                65           1   \n",
       "\n",
       "              Client_Married  Amount_Last_Disbursement  \\\n",
       "Fecha Cierre                                             \n",
       "2018-01-31                 0                   66500.0   \n",
       "2018-01-31                 1                   22000.0   \n",
       "2018-01-31                 0                   18000.0   \n",
       "\n",
       "              n(Months)_Since_Last_Disbursement  \\\n",
       "Fecha Cierre                                      \n",
       "2018-01-31                                   57   \n",
       "2018-01-31                                    0   \n",
       "2018-01-31                                    1   \n",
       "\n",
       "              n(Months)_Client_Relationship  n(Months)_LO_Active_Employee  \\\n",
       "Fecha Cierre                                                                \n",
       "2018-01-31                               74                            19   \n",
       "2018-01-31                               81                            45   \n",
       "2018-01-31                               31                            24   \n",
       "\n",
       "              Client_Status_Post3Months  ...  n(Loans)_Outstanding_Other  \\\n",
       "Fecha Cierre                             ...                               \n",
       "2018-01-31                            1  ...                           2   \n",
       "2018-01-31                            0  ...                           1   \n",
       "2018-01-31                            0  ...                           2   \n",
       "\n",
       "              n(Additional_Loans)_Post3Months  \\\n",
       "Fecha Cierre                                    \n",
       "2018-01-31                                  0   \n",
       "2018-01-31                                  0   \n",
       "2018-01-31                                  0   \n",
       "\n",
       "              n(Additional_Loans)_Post6Months  \\\n",
       "Fecha Cierre                                    \n",
       "2018-01-31                                  0   \n",
       "2018-01-31                                  0   \n",
       "2018-01-31                                  0   \n",
       "\n",
       "              Total_Accumulated_Interest_per_Client  \\\n",
       "Fecha Cierre                                          \n",
       "2018-01-31                                       19   \n",
       "2018-01-31                                      127   \n",
       "2018-01-31                                        0   \n",
       "\n",
       "              LO_Active_Employee_Prior3Months  \\\n",
       "Fecha Cierre                                    \n",
       "2018-01-31                                  1   \n",
       "2018-01-31                                  1   \n",
       "2018-01-31                                  1   \n",
       "\n",
       "              LO_Active_Employee_Prior6Months  n(Additional_Loans)_Pre3Months  \\\n",
       "Fecha Cierre                                                                    \n",
       "2018-01-31                                  1                               0   \n",
       "2018-01-31                                  1                               1   \n",
       "2018-01-31                                  1                               1   \n",
       "\n",
       "              n(Additional_Loans)_Pre6Months  LO_Changed  n(Months)_Change_LO  \n",
       "Fecha Cierre                                                                   \n",
       "2018-01-31                                 0           1                   13  \n",
       "2018-01-31                                 1           0                    0  \n",
       "2018-01-31                                 1           0                    0  \n",
       "\n",
       "[3 rows x 24 columns]"
      ]
     },
     "execution_count": 7,
     "metadata": {},
     "output_type": "execute_result"
    }
   ],
   "source": [
    "df.head(3)"
   ]
  },
  {
   "cell_type": "code",
   "execution_count": 8,
   "metadata": {
    "colab": {
     "base_uri": "https://localhost:8080/"
    },
    "id": "Kv-ZTi9jhp6X",
    "outputId": "24ce08e3-0aa4-4aa9-a530-65b18e377c71"
   },
   "outputs": [
    {
     "data": {
      "text/plain": [
       "Client_ID                                  int64\n",
       "Resident_Capital                           int64\n",
       "Client_Age_Years                           int64\n",
       "Client_Sex                                 int64\n",
       "Client_Married                             int64\n",
       "Amount_Last_Disbursement                 float64\n",
       "n(Months)_Since_Last_Disbursement          int64\n",
       "n(Months)_Client_Relationship              int64\n",
       "n(Months)_LO_Active_Employee               int64\n",
       "Client_Status_Post3Months                  int64\n",
       "Client_Status_Post6Months                  int64\n",
       "LO_Active_Employee_Post3Months             int64\n",
       "LO_Active_Employee_Post6Months             int64\n",
       "n(Loans)_Outstanding_Maynas                int64\n",
       "n(Loans)_Outstanding_Other                 int64\n",
       "n(Additional_Loans)_Post3Months            int64\n",
       "n(Additional_Loans)_Post6Months            int64\n",
       "Total_Accumulated_Interest_per_Client      int64\n",
       "LO_Active_Employee_Prior3Months            int64\n",
       "LO_Active_Employee_Prior6Months            int64\n",
       "n(Additional_Loans)_Pre3Months             int64\n",
       "n(Additional_Loans)_Pre6Months             int64\n",
       "LO_Changed                                 int64\n",
       "n(Months)_Change_LO                        int64\n",
       "dtype: object"
      ]
     },
     "execution_count": 8,
     "metadata": {},
     "output_type": "execute_result"
    }
   ],
   "source": [
    "df.dtypes"
   ]
  },
  {
   "cell_type": "markdown",
   "metadata": {
    "id": "b2yjmgeihp6Z"
   },
   "source": [
    "### Define X, y and split data (using complete dataset, i.e. years 2018 - may 2021 for fitting and evaluating models)."
   ]
  },
  {
   "cell_type": "code",
   "execution_count": 9,
   "metadata": {
    "colab": {
     "base_uri": "https://localhost:8080/"
    },
    "id": "nJli4qn2hp6Z",
    "outputId": "887402d9-0b43-48b6-dbec-7785c2e86fec"
   },
   "outputs": [
    {
     "data": {
      "text/plain": [
       "((4304, 22), (4304,))"
      ]
     },
     "execution_count": 9,
     "metadata": {},
     "output_type": "execute_result"
    }
   ],
   "source": [
    "X = df.drop([\"Client_Status_Post3Months\", \"Client_Status_Post6Months\"], axis=1) # excluding target variables\n",
    "y = df[\"Client_Status_Post3Months\"]  \n",
    "X.shape, y.shape"
   ]
  },
  {
   "cell_type": "code",
   "execution_count": 10,
   "metadata": {
    "id": "Fwl9wH-Thp6Z"
   },
   "outputs": [],
   "source": [
    "X_train, X_val, y_train, y_val = train_test_split(X, y, test_size=0.2, random_state=42) # no need to stratify (default includes it)"
   ]
  },
  {
   "cell_type": "code",
   "execution_count": 11,
   "metadata": {
    "colab": {
     "base_uri": "https://localhost:8080/"
    },
    "id": "JQJY73a2hp6Z",
    "outputId": "44175f01-6063-411e-9789-292d391a2aa3"
   },
   "outputs": [
    {
     "data": {
      "text/plain": [
       "((3443, 22), (3443,), (861, 22), (861,))"
      ]
     },
     "execution_count": 11,
     "metadata": {},
     "output_type": "execute_result"
    }
   ],
   "source": [
    "X_train.shape, y_train.shape, X_val.shape, y_val.shape"
   ]
  },
  {
   "cell_type": "markdown",
   "metadata": {},
   "source": [
    "### Feature Engineering (only LogReg): timestamps, binning and scaling"
   ]
  },
  {
   "cell_type": "code",
   "execution_count": 12,
   "metadata": {},
   "outputs": [],
   "source": [
    "X_train_timestamps = include_timestamps(X_train)"
   ]
  },
  {
   "cell_type": "code",
   "execution_count": 13,
   "metadata": {},
   "outputs": [],
   "source": [
    "binnables = [\"n(Months)_Since_Last_Disbursement\", \"n(Months)_Client_Relationship\", \"n(Months)_LO_Active_Employee\", \"n(Loans)_Outstanding_Maynas\", \"n(Loans)_Outstanding_Other\", \"n(Additional_Loans)_Post3Months\", \"n(Additional_Loans)_Post6Months\", \"Year\", \"Month\"]"
   ]
  },
  {
   "cell_type": "code",
   "execution_count": 14,
   "metadata": {},
   "outputs": [],
   "source": [
    "scalables = [\"Client_Age_Years\", \"Amount_Last_Disbursement\", \"Total_Accumulated_Interest_per_Client\"]"
   ]
  },
  {
   "cell_type": "code",
   "execution_count": 15,
   "metadata": {},
   "outputs": [],
   "source": [
    "weights = {0:0.41, 1:0.59} # rationale: taking inverse distribution of labels (see EDA on distribution of minority/majority groups)."
   ]
  },
  {
   "cell_type": "code",
   "execution_count": 16,
   "metadata": {},
   "outputs": [],
   "source": [
    "transformer_LogReg = ColumnTransformer(\n",
    "    [\n",
    "        (\"binner\", KBinsDiscretizer(), binnables),\n",
    "        (\"scaler\", MinMaxScaler(), scalables),\n",
    "    ],\n",
    "    remainder='passthrough'\n",
    ")"
   ]
  },
  {
   "cell_type": "code",
   "execution_count": 17,
   "metadata": {},
   "outputs": [],
   "source": [
    "pipeline_LogReg = Pipeline(\n",
    "    [\n",
    "        (\"transformer\", transformer_LogReg),\n",
    "        (\"classifier\", LogisticRegression(class_weight = weights, random_state=42)),\n",
    "    ]\n",
    ")"
   ]
  },
  {
   "cell_type": "code",
   "execution_count": 18,
   "metadata": {},
   "outputs": [],
   "source": [
    "X_val_timestamps = include_timestamps(X_val)"
   ]
  },
  {
   "cell_type": "code",
   "execution_count": 19,
   "metadata": {},
   "outputs": [],
   "source": [
    "clf_LogReg_fitted = pipeline_LogReg.fit(X_train_timestamps, y_train)"
   ]
  },
  {
   "cell_type": "code",
   "execution_count": 20,
   "metadata": {},
   "outputs": [],
   "source": [
    "X_val_transformed = transformer_LogReg.transform(X_val_timestamps)"
   ]
  },
  {
   "cell_type": "code",
   "execution_count": 21,
   "metadata": {},
   "outputs": [
    {
     "data": {
      "text/html": [
       "<div>\n",
       "<style scoped>\n",
       "    .dataframe tbody tr th:only-of-type {\n",
       "        vertical-align: middle;\n",
       "    }\n",
       "\n",
       "    .dataframe tbody tr th {\n",
       "        vertical-align: top;\n",
       "    }\n",
       "\n",
       "    .dataframe thead th {\n",
       "        text-align: right;\n",
       "    }\n",
       "</style>\n",
       "<table border=\"1\" class=\"dataframe\">\n",
       "  <thead>\n",
       "    <tr style=\"text-align: right;\">\n",
       "      <th></th>\n",
       "      <th>0</th>\n",
       "      <th>1</th>\n",
       "      <th>2</th>\n",
       "      <th>3</th>\n",
       "      <th>4</th>\n",
       "      <th>5</th>\n",
       "      <th>6</th>\n",
       "      <th>7</th>\n",
       "      <th>8</th>\n",
       "      <th>9</th>\n",
       "      <th>...</th>\n",
       "      <th>34</th>\n",
       "      <th>35</th>\n",
       "      <th>36</th>\n",
       "      <th>37</th>\n",
       "      <th>38</th>\n",
       "      <th>39</th>\n",
       "      <th>40</th>\n",
       "      <th>41</th>\n",
       "      <th>42</th>\n",
       "      <th>43</th>\n",
       "    </tr>\n",
       "  </thead>\n",
       "  <tbody>\n",
       "    <tr>\n",
       "      <th>0</th>\n",
       "      <td>1.0</td>\n",
       "      <td>0.0</td>\n",
       "      <td>0.0</td>\n",
       "      <td>0.0</td>\n",
       "      <td>0.0</td>\n",
       "      <td>0.0</td>\n",
       "      <td>0.0</td>\n",
       "      <td>0.0</td>\n",
       "      <td>1.0</td>\n",
       "      <td>0.0</td>\n",
       "      <td>...</td>\n",
       "      <td>0.0</td>\n",
       "      <td>1.0</td>\n",
       "      <td>1.0</td>\n",
       "      <td>0.0</td>\n",
       "      <td>1.0</td>\n",
       "      <td>1.0</td>\n",
       "      <td>2.0</td>\n",
       "      <td>2.0</td>\n",
       "      <td>0.0</td>\n",
       "      <td>0.0</td>\n",
       "    </tr>\n",
       "    <tr>\n",
       "      <th>1</th>\n",
       "      <td>0.0</td>\n",
       "      <td>0.0</td>\n",
       "      <td>0.0</td>\n",
       "      <td>1.0</td>\n",
       "      <td>0.0</td>\n",
       "      <td>0.0</td>\n",
       "      <td>1.0</td>\n",
       "      <td>0.0</td>\n",
       "      <td>0.0</td>\n",
       "      <td>1.0</td>\n",
       "      <td>...</td>\n",
       "      <td>0.0</td>\n",
       "      <td>1.0</td>\n",
       "      <td>0.0</td>\n",
       "      <td>0.0</td>\n",
       "      <td>0.0</td>\n",
       "      <td>0.0</td>\n",
       "      <td>0.0</td>\n",
       "      <td>0.0</td>\n",
       "      <td>0.0</td>\n",
       "      <td>0.0</td>\n",
       "    </tr>\n",
       "    <tr>\n",
       "      <th>2</th>\n",
       "      <td>1.0</td>\n",
       "      <td>0.0</td>\n",
       "      <td>0.0</td>\n",
       "      <td>0.0</td>\n",
       "      <td>0.0</td>\n",
       "      <td>0.0</td>\n",
       "      <td>0.0</td>\n",
       "      <td>1.0</td>\n",
       "      <td>0.0</td>\n",
       "      <td>0.0</td>\n",
       "      <td>...</td>\n",
       "      <td>0.0</td>\n",
       "      <td>0.0</td>\n",
       "      <td>1.0</td>\n",
       "      <td>1.0</td>\n",
       "      <td>1.0</td>\n",
       "      <td>1.0</td>\n",
       "      <td>1.0</td>\n",
       "      <td>1.0</td>\n",
       "      <td>0.0</td>\n",
       "      <td>0.0</td>\n",
       "    </tr>\n",
       "    <tr>\n",
       "      <th>3</th>\n",
       "      <td>0.0</td>\n",
       "      <td>0.0</td>\n",
       "      <td>0.0</td>\n",
       "      <td>1.0</td>\n",
       "      <td>0.0</td>\n",
       "      <td>0.0</td>\n",
       "      <td>0.0</td>\n",
       "      <td>1.0</td>\n",
       "      <td>0.0</td>\n",
       "      <td>0.0</td>\n",
       "      <td>...</td>\n",
       "      <td>0.0</td>\n",
       "      <td>0.0</td>\n",
       "      <td>0.0</td>\n",
       "      <td>0.0</td>\n",
       "      <td>1.0</td>\n",
       "      <td>1.0</td>\n",
       "      <td>2.0</td>\n",
       "      <td>2.0</td>\n",
       "      <td>0.0</td>\n",
       "      <td>0.0</td>\n",
       "    </tr>\n",
       "    <tr>\n",
       "      <th>4</th>\n",
       "      <td>0.0</td>\n",
       "      <td>0.0</td>\n",
       "      <td>0.0</td>\n",
       "      <td>1.0</td>\n",
       "      <td>0.0</td>\n",
       "      <td>0.0</td>\n",
       "      <td>0.0</td>\n",
       "      <td>1.0</td>\n",
       "      <td>0.0</td>\n",
       "      <td>0.0</td>\n",
       "      <td>...</td>\n",
       "      <td>1.0</td>\n",
       "      <td>0.0</td>\n",
       "      <td>0.0</td>\n",
       "      <td>0.0</td>\n",
       "      <td>0.0</td>\n",
       "      <td>0.0</td>\n",
       "      <td>0.0</td>\n",
       "      <td>0.0</td>\n",
       "      <td>1.0</td>\n",
       "      <td>9.0</td>\n",
       "    </tr>\n",
       "    <tr>\n",
       "      <th>...</th>\n",
       "      <td>...</td>\n",
       "      <td>...</td>\n",
       "      <td>...</td>\n",
       "      <td>...</td>\n",
       "      <td>...</td>\n",
       "      <td>...</td>\n",
       "      <td>...</td>\n",
       "      <td>...</td>\n",
       "      <td>...</td>\n",
       "      <td>...</td>\n",
       "      <td>...</td>\n",
       "      <td>...</td>\n",
       "      <td>...</td>\n",
       "      <td>...</td>\n",
       "      <td>...</td>\n",
       "      <td>...</td>\n",
       "      <td>...</td>\n",
       "      <td>...</td>\n",
       "      <td>...</td>\n",
       "      <td>...</td>\n",
       "      <td>...</td>\n",
       "    </tr>\n",
       "    <tr>\n",
       "      <th>856</th>\n",
       "      <td>1.0</td>\n",
       "      <td>0.0</td>\n",
       "      <td>0.0</td>\n",
       "      <td>0.0</td>\n",
       "      <td>0.0</td>\n",
       "      <td>0.0</td>\n",
       "      <td>0.0</td>\n",
       "      <td>0.0</td>\n",
       "      <td>1.0</td>\n",
       "      <td>0.0</td>\n",
       "      <td>...</td>\n",
       "      <td>1.0</td>\n",
       "      <td>0.0</td>\n",
       "      <td>0.0</td>\n",
       "      <td>1.0</td>\n",
       "      <td>1.0</td>\n",
       "      <td>1.0</td>\n",
       "      <td>2.0</td>\n",
       "      <td>1.0</td>\n",
       "      <td>0.0</td>\n",
       "      <td>0.0</td>\n",
       "    </tr>\n",
       "    <tr>\n",
       "      <th>857</th>\n",
       "      <td>1.0</td>\n",
       "      <td>0.0</td>\n",
       "      <td>0.0</td>\n",
       "      <td>0.0</td>\n",
       "      <td>1.0</td>\n",
       "      <td>0.0</td>\n",
       "      <td>0.0</td>\n",
       "      <td>0.0</td>\n",
       "      <td>0.0</td>\n",
       "      <td>0.0</td>\n",
       "      <td>...</td>\n",
       "      <td>0.0</td>\n",
       "      <td>1.0</td>\n",
       "      <td>1.0</td>\n",
       "      <td>1.0</td>\n",
       "      <td>1.0</td>\n",
       "      <td>1.0</td>\n",
       "      <td>0.0</td>\n",
       "      <td>0.0</td>\n",
       "      <td>0.0</td>\n",
       "      <td>0.0</td>\n",
       "    </tr>\n",
       "    <tr>\n",
       "      <th>858</th>\n",
       "      <td>1.0</td>\n",
       "      <td>0.0</td>\n",
       "      <td>0.0</td>\n",
       "      <td>0.0</td>\n",
       "      <td>0.0</td>\n",
       "      <td>0.0</td>\n",
       "      <td>1.0</td>\n",
       "      <td>0.0</td>\n",
       "      <td>0.0</td>\n",
       "      <td>1.0</td>\n",
       "      <td>...</td>\n",
       "      <td>1.0</td>\n",
       "      <td>0.0</td>\n",
       "      <td>1.0</td>\n",
       "      <td>0.0</td>\n",
       "      <td>0.0</td>\n",
       "      <td>0.0</td>\n",
       "      <td>0.0</td>\n",
       "      <td>0.0</td>\n",
       "      <td>0.0</td>\n",
       "      <td>0.0</td>\n",
       "    </tr>\n",
       "    <tr>\n",
       "      <th>859</th>\n",
       "      <td>0.0</td>\n",
       "      <td>1.0</td>\n",
       "      <td>0.0</td>\n",
       "      <td>0.0</td>\n",
       "      <td>0.0</td>\n",
       "      <td>0.0</td>\n",
       "      <td>0.0</td>\n",
       "      <td>0.0</td>\n",
       "      <td>1.0</td>\n",
       "      <td>0.0</td>\n",
       "      <td>...</td>\n",
       "      <td>1.0</td>\n",
       "      <td>0.0</td>\n",
       "      <td>0.0</td>\n",
       "      <td>0.0</td>\n",
       "      <td>0.0</td>\n",
       "      <td>0.0</td>\n",
       "      <td>0.0</td>\n",
       "      <td>0.0</td>\n",
       "      <td>0.0</td>\n",
       "      <td>0.0</td>\n",
       "    </tr>\n",
       "    <tr>\n",
       "      <th>860</th>\n",
       "      <td>0.0</td>\n",
       "      <td>0.0</td>\n",
       "      <td>0.0</td>\n",
       "      <td>1.0</td>\n",
       "      <td>0.0</td>\n",
       "      <td>0.0</td>\n",
       "      <td>0.0</td>\n",
       "      <td>1.0</td>\n",
       "      <td>0.0</td>\n",
       "      <td>0.0</td>\n",
       "      <td>...</td>\n",
       "      <td>1.0</td>\n",
       "      <td>1.0</td>\n",
       "      <td>0.0</td>\n",
       "      <td>0.0</td>\n",
       "      <td>0.0</td>\n",
       "      <td>0.0</td>\n",
       "      <td>0.0</td>\n",
       "      <td>0.0</td>\n",
       "      <td>1.0</td>\n",
       "      <td>9.0</td>\n",
       "    </tr>\n",
       "  </tbody>\n",
       "</table>\n",
       "<p>861 rows × 44 columns</p>\n",
       "</div>"
      ],
      "text/plain": [
       "      0    1    2    3    4    5    6    7    8    9   ...   34   35   36  \\\n",
       "0    1.0  0.0  0.0  0.0  0.0  0.0  0.0  0.0  1.0  0.0  ...  0.0  1.0  1.0   \n",
       "1    0.0  0.0  0.0  1.0  0.0  0.0  1.0  0.0  0.0  1.0  ...  0.0  1.0  0.0   \n",
       "2    1.0  0.0  0.0  0.0  0.0  0.0  0.0  1.0  0.0  0.0  ...  0.0  0.0  1.0   \n",
       "3    0.0  0.0  0.0  1.0  0.0  0.0  0.0  1.0  0.0  0.0  ...  0.0  0.0  0.0   \n",
       "4    0.0  0.0  0.0  1.0  0.0  0.0  0.0  1.0  0.0  0.0  ...  1.0  0.0  0.0   \n",
       "..   ...  ...  ...  ...  ...  ...  ...  ...  ...  ...  ...  ...  ...  ...   \n",
       "856  1.0  0.0  0.0  0.0  0.0  0.0  0.0  0.0  1.0  0.0  ...  1.0  0.0  0.0   \n",
       "857  1.0  0.0  0.0  0.0  1.0  0.0  0.0  0.0  0.0  0.0  ...  0.0  1.0  1.0   \n",
       "858  1.0  0.0  0.0  0.0  0.0  0.0  1.0  0.0  0.0  1.0  ...  1.0  0.0  1.0   \n",
       "859  0.0  1.0  0.0  0.0  0.0  0.0  0.0  0.0  1.0  0.0  ...  1.0  0.0  0.0   \n",
       "860  0.0  0.0  0.0  1.0  0.0  0.0  0.0  1.0  0.0  0.0  ...  1.0  1.0  0.0   \n",
       "\n",
       "      37   38   39   40   41   42   43  \n",
       "0    0.0  1.0  1.0  2.0  2.0  0.0  0.0  \n",
       "1    0.0  0.0  0.0  0.0  0.0  0.0  0.0  \n",
       "2    1.0  1.0  1.0  1.0  1.0  0.0  0.0  \n",
       "3    0.0  1.0  1.0  2.0  2.0  0.0  0.0  \n",
       "4    0.0  0.0  0.0  0.0  0.0  1.0  9.0  \n",
       "..   ...  ...  ...  ...  ...  ...  ...  \n",
       "856  1.0  1.0  1.0  2.0  1.0  0.0  0.0  \n",
       "857  1.0  1.0  1.0  0.0  0.0  0.0  0.0  \n",
       "858  0.0  0.0  0.0  0.0  0.0  0.0  0.0  \n",
       "859  0.0  0.0  0.0  0.0  0.0  0.0  0.0  \n",
       "860  0.0  0.0  0.0  0.0  0.0  1.0  9.0  \n",
       "\n",
       "[861 rows x 44 columns]"
      ]
     },
     "execution_count": 21,
     "metadata": {},
     "output_type": "execute_result"
    }
   ],
   "source": [
    "X_val_transformed = pd.DataFrame(X_val_transformed)\n",
    "X_val_transformed"
   ]
  },
  {
   "cell_type": "markdown",
   "metadata": {},
   "source": [
    "## Evaluate LogReg "
   ]
  },
  {
   "cell_type": "markdown",
   "metadata": {
    "id": "BdvNduoBhp6b"
   },
   "source": [
    "### Evaluate LogReg: ROC curve "
   ]
  },
  {
   "cell_type": "code",
   "execution_count": 22,
   "metadata": {
    "colab": {
     "base_uri": "https://localhost:8080/",
     "height": 279
    },
    "id": "sBjNr6nbhp6b",
    "outputId": "8f39dfeb-452b-45a9-afc1-b4413d2422da"
   },
   "outputs": [
    {
     "data": {
      "image/png": "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",
      "text/plain": [
       "<Figure size 432x288 with 1 Axes>"
      ]
     },
     "metadata": {
      "needs_background": "light"
     },
     "output_type": "display_data"
    }
   ],
   "source": [
    "model_LR_disp = plot_roc_curve(clf_LogReg_fitted, X_val_timestamps, y_val)\n",
    "plt.show()"
   ]
  },
  {
   "cell_type": "markdown",
   "metadata": {},
   "source": [
    "### Evaluate LogReg: confusion matrix and AUC"
   ]
  },
  {
   "cell_type": "code",
   "execution_count": 23,
   "metadata": {},
   "outputs": [],
   "source": [
    "pred_LogReg = clf_LogReg_fitted.predict(X_val_timestamps)"
   ]
  },
  {
   "cell_type": "code",
   "execution_count": 24,
   "metadata": {},
   "outputs": [
    {
     "name": "stdout",
     "output_type": "stream",
     "text": [
      "Confusion Matrix: \n",
      "[[  0 529]\n",
      " [  0 332]]\n",
      "Area Under Curve: 0.5\n",
      "f1 - score: 0.56\n"
     ]
    }
   ],
   "source": [
    "print(f\"Confusion Matrix: \\n{confusion_matrix(y_val, pred_LogReg)}\")\n",
    "print(f\"Area Under Curve: {roc_auc_score(y_val, pred_LogReg).round(2)}\")\n",
    "print(f\"f1 - score: {f1_score(y_val, pred_LogReg).round(2)}\")"
   ]
  },
  {
   "cell_type": "markdown",
   "metadata": {},
   "source": [
    "Interpretation:\n",
    "- TP = 0, i.e. model does not make any predictions re positive class.\n",
    "- AUC = 0.50, i.e. we don't need to build any model => we could \"toss a coin\" instead\n",
    "- Model underperforms, which COULD have to do with outliers...LogReg is sensitive to outliers => model would have to be run again in future, but excluding outliers."
   ]
  },
  {
   "cell_type": "code",
   "execution_count": 25,
   "metadata": {},
   "outputs": [
    {
     "name": "stdout",
     "output_type": "stream",
     "text": [
      "Classifier has an ROC-AUC-score of 0.5 and an f1-score of 0.56\n"
     ]
    }
   ],
   "source": [
    "performance_metrics(y_val, pred_LogReg)"
   ]
  },
  {
   "cell_type": "markdown",
   "metadata": {
    "id": "qZEX9mVyhp6b"
   },
   "source": [
    "### Fit a Random Forest model"
   ]
  },
  {
   "cell_type": "markdown",
   "metadata": {},
   "source": [
    "### Grid Search for hyperparameter tuning: Random Forest Classifier"
   ]
  },
  {
   "cell_type": "code",
   "execution_count": 26,
   "metadata": {},
   "outputs": [
    {
     "name": "stdout",
     "output_type": "stream",
     "text": [
      "Fitting 5 folds for each of 40 candidates, totalling 200 fits\n"
     ]
    },
    {
     "data": {
      "text/plain": [
       "GridSearchCV(cv=5, estimator=RandomForestClassifier(),\n",
       "             param_grid={'max_depth': [3, 20],\n",
       "                         'min_samples_split': [2, 3, 5, 10],\n",
       "                         'n_estimators': [5, 10, 25, 50, 100]},\n",
       "             verbose=True)"
      ]
     },
     "execution_count": 26,
     "metadata": {},
     "output_type": "execute_result"
    }
   ],
   "source": [
    "model_RF = RandomForestClassifier()\n",
    "param_grid = {'n_estimators': [5, 10, 25, 50, 100],\n",
    "              'max_depth': [3, 20],\n",
    "              'min_samples_split': [2, 3, 5, 10]} \n",
    "grid_search = GridSearchCV(model_RF, param_grid, verbose=True, cv=5)   \n",
    "grid_search.fit(X_train_timestamps, y_train) \n",
    "     "
   ]
  },
  {
   "cell_type": "markdown",
   "metadata": {},
   "source": [
    "#### Inspect params"
   ]
  },
  {
   "cell_type": "code",
   "execution_count": 27,
   "metadata": {},
   "outputs": [
    {
     "data": {
      "text/plain": [
       "{'max_depth': 20, 'min_samples_split': 2, 'n_estimators': 25}"
      ]
     },
     "execution_count": 27,
     "metadata": {},
     "output_type": "execute_result"
    }
   ],
   "source": [
    "grid_search.best_params_  "
   ]
  },
  {
   "cell_type": "markdown",
   "metadata": {},
   "source": [
    "#### Check if RF model overfits."
   ]
  },
  {
   "cell_type": "code",
   "execution_count": 28,
   "metadata": {},
   "outputs": [
    {
     "data": {
      "text/plain": [
       "0.95"
      ]
     },
     "execution_count": 28,
     "metadata": {},
     "output_type": "execute_result"
    }
   ],
   "source": [
    "rf_best = grid_search.best_estimator_\n",
    "rf_best.score(X_train_timestamps, y_train).round(2)\n",
    "rf_best.score(X_val_timestamps, y_val).round(2)"
   ]
  },
  {
   "cell_type": "code",
   "execution_count": 29,
   "metadata": {
    "id": "Lm8_zyVahp6b"
   },
   "outputs": [],
   "source": [
    "clf_RF = RandomForestClassifier(max_depth=10, min_samples_split=3, n_estimators=63, random_state=42) # params from manual tuning"
   ]
  },
  {
   "cell_type": "code",
   "execution_count": 30,
   "metadata": {},
   "outputs": [],
   "source": [
    "clf_RF = model_fit(model = clf_RF, df = X_train_timestamps, labels = y_train)"
   ]
  },
  {
   "cell_type": "markdown",
   "metadata": {},
   "source": [
    "### Make predictions."
   ]
  },
  {
   "cell_type": "code",
   "execution_count": 31,
   "metadata": {
    "colab": {
     "base_uri": "https://localhost:8080/"
    },
    "id": "8GBqDksyKlvS",
    "outputId": "e824b652-7ada-49ba-8598-738bb544e04e"
   },
   "outputs": [],
   "source": [
    "y_pred_RF = clf_RF.predict(X_val_timestamps)\n"
   ]
  },
  {
   "cell_type": "markdown",
   "metadata": {
    "id": "Pv94Ffz_hp6b"
   },
   "source": [
    "### Evaluate Random Forest: ROC curve "
   ]
  },
  {
   "cell_type": "code",
   "execution_count": 32,
   "metadata": {
    "colab": {
     "base_uri": "https://localhost:8080/",
     "height": 279
    },
    "id": "7uP9sPkHhp6b",
    "outputId": "2bc58626-c387-40dc-e885-e43aa3296f08"
   },
   "outputs": [
    {
     "data": {
      "image/png": "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",
      "text/plain": [
       "<Figure size 432x288 with 1 Axes>"
      ]
     },
     "metadata": {
      "needs_background": "light"
     },
     "output_type": "display_data"
    }
   ],
   "source": [
    "ax = plt.gca()\n",
    "\n",
    "model_RF_disp = plot_roc_curve(clf_RF, X_val, y_val, ax=ax, alpha=0.8)\n",
    "model_LR_disp.plot(ax=ax, alpha=0.8)\n",
    "\n",
    "plt.show() "
   ]
  },
  {
   "cell_type": "markdown",
   "metadata": {},
   "source": [
    "### Evaluate Random Forest: confusion matrix and AUC"
   ]
  },
  {
   "cell_type": "code",
   "execution_count": 33,
   "metadata": {},
   "outputs": [
    {
     "name": "stdout",
     "output_type": "stream",
     "text": [
      "Confusion Matrix: \n",
      "[[516  13]\n",
      " [ 36 296]]\n",
      "Area Under Curve: 0.93\n",
      "f1 - score: 0.92\n"
     ]
    }
   ],
   "source": [
    "print(f\"Confusion Matrix: \\n{confusion_matrix(y_val, y_pred_RF)}\")\n",
    "print(f\"Area Under Curve: {roc_auc_score(y_val, y_pred_RF).round(2)}\")\n",
    "print(f\"f1 - score: {f1_score(y_val, y_pred_RF).round(2)}\")"
   ]
  },
  {
   "cell_type": "markdown",
   "metadata": {},
   "source": [
    "Interpretation:\n",
    "- re Confusion Matrix: out of 332 predictions regarding the positive class, 89% were predicted correctly. Out of 529 predictions regarding the negative class, only 2% were predicted incorrectly (false negatives).\n",
    "- f1 - score:  92%\n",
    "- re AUC: the likelihood that a randomly selected customer from the minority group is scored higher than the a randomly selected customer from the majority group is 94% in the case of a RandomForest classifier (vs. 50% of a LogReg classifier)."
   ]
  },
  {
   "cell_type": "code",
   "execution_count": 34,
   "metadata": {},
   "outputs": [
    {
     "name": "stdout",
     "output_type": "stream",
     "text": [
      "Classifier has an ROC-AUC-score of 0.93 and an f1-score of 0.92\n"
     ]
    }
   ],
   "source": [
    "performance_metrics(y_val, y_pred_RF)"
   ]
  },
  {
   "cell_type": "markdown",
   "metadata": {
    "id": "kp9Ql1rqhp6c"
   },
   "source": [
    "### Fit a Decision Tree model"
   ]
  },
  {
   "cell_type": "code",
   "execution_count": 35,
   "metadata": {
    "id": "bOBAlakehp6c"
   },
   "outputs": [],
   "source": [
    "clf_DT = DecisionTreeClassifier(max_depth=6, random_state=42) # param from manual tuning"
   ]
  },
  {
   "cell_type": "code",
   "execution_count": 36,
   "metadata": {},
   "outputs": [
    {
     "data": {
      "text/plain": [
       "DecisionTreeClassifier(max_depth=6, random_state=42)"
      ]
     },
     "execution_count": 36,
     "metadata": {},
     "output_type": "execute_result"
    }
   ],
   "source": [
    "model_fit(model = clf_DT, df = X_train_timestamps, labels = y_train)"
   ]
  },
  {
   "cell_type": "markdown",
   "metadata": {},
   "source": [
    "### Make predictions."
   ]
  },
  {
   "cell_type": "code",
   "execution_count": 37,
   "metadata": {
    "colab": {
     "base_uri": "https://localhost:8080/"
    },
    "id": "F-yYj3pnhp6c",
    "outputId": "b63d40a2-04c2-434c-cb7a-21ca0ea5cc4f"
   },
   "outputs": [],
   "source": [
    "y_pred_DT = clf_DT.predict(X_val_timestamps)"
   ]
  },
  {
   "cell_type": "markdown",
   "metadata": {},
   "source": [
    "### Evaluate Decision Tree: ROC curve "
   ]
  },
  {
   "cell_type": "code",
   "execution_count": 38,
   "metadata": {
    "colab": {
     "base_uri": "https://localhost:8080/",
     "height": 279
    },
    "id": "WTFUPgaQhp6c",
    "outputId": "833e8f9f-98f3-40c7-cf3f-9dcb94a5def2"
   },
   "outputs": [
    {
     "data": {
      "image/png": "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",
      "text/plain": [
       "<Figure size 432x288 with 1 Axes>"
      ]
     },
     "metadata": {
      "needs_background": "light"
     },
     "output_type": "display_data"
    }
   ],
   "source": [
    "ax = plt.gca()\n",
    "\n",
    "clf_DT_disp = plot_roc_curve(clf_DT, X_val, y_val, ax=ax, alpha=0.8)\n",
    "model_RF_disp.plot(ax=ax, alpha=0.8)\n",
    "model_LR_disp.plot(ax=ax, alpha=0.8)\n",
    "\n",
    "plt.show()"
   ]
  },
  {
   "cell_type": "markdown",
   "metadata": {},
   "source": [
    "### Evaluate Decision Tree: confusion matrix and AUC"
   ]
  },
  {
   "cell_type": "code",
   "execution_count": 39,
   "metadata": {},
   "outputs": [
    {
     "name": "stdout",
     "output_type": "stream",
     "text": [
      "Confusion Matrix: \n",
      "[[495  34]\n",
      " [ 32 300]]\n",
      "Area Under Curve: 0.92\n",
      "f1 - score: 0.9\n"
     ]
    }
   ],
   "source": [
    "print(f\"Confusion Matrix: \\n{confusion_matrix(y_val, y_pred_DT)}\")\n",
    "print(f\"Area Under Curve: {roc_auc_score(y_val, y_pred_DT).round(2)}\")\n",
    "print(f\"f1 - score: {f1_score(y_val, y_pred_DT).round(2)}\")"
   ]
  },
  {
   "cell_type": "code",
   "execution_count": 40,
   "metadata": {},
   "outputs": [
    {
     "name": "stdout",
     "output_type": "stream",
     "text": [
      "Classifier has an ROC-AUC-score of 0.92 and an f1-score of 0.9\n"
     ]
    }
   ],
   "source": [
    "performance_metrics(y_val, y_pred_DT)"
   ]
  },
  {
   "cell_type": "markdown",
   "metadata": {},
   "source": [
    "Interpretation:\n",
    "- re Confusion Matrix: out of 332 predictions regarding the positive class, 90% were predicted correctly. As such, DT shows best precision of all models. Out of 529 predictions regarding the negative class, 6% were predicted incorrectly (false negatives). \n",
    "- f1 - score = 89.95% \n",
    "- re AUC: the likelihood that a randomly selected customer from the minority group is scored higher than the a randomly selected customer from the majority group is 92% in the case of a Decision Tree classifier (vs. 94% of a Random Forest classifier)."
   ]
  },
  {
   "cell_type": "markdown",
   "metadata": {},
   "source": [
    "### Summary model evaluation: AUC"
   ]
  },
  {
   "cell_type": "code",
   "execution_count": 41,
   "metadata": {},
   "outputs": [],
   "source": [
    "# auc = [[\"LogReg\", auc_LR], [\"Tree\",  auc_DT], [\"RF\",  auc_RF]]\n",
    "# auc  = pd.DataFrame(auc , columns = [\"Model\", \"auc\"])\n",
    "# auc.sort_values(by=[\"auc\"], inplace=True, ascending = False)\n",
    "# auc"
   ]
  },
  {
   "cell_type": "markdown",
   "metadata": {},
   "source": [
    "### Summary model evaluation: f1 - score"
   ]
  },
  {
   "cell_type": "code",
   "execution_count": 42,
   "metadata": {},
   "outputs": [],
   "source": [
    "# f1 = [[\"LogReg\", f1_LR], [\"Tree\",  f1_DT], [\"RF\",  f1_RF]]\n",
    "# f1  = pd.DataFrame(f1 , columns = [\"Model\", \"f1\"])\n",
    "# f1.sort_values(by=[\"f1\"], inplace=True, ascending = False)\n",
    "# f1"
   ]
  }
 ],
 "metadata": {
  "colab": {
   "collapsed_sections": [
    "gHC3XVYchp6d"
   ],
   "name": "Customer_Churn_SavingsBank_AllFeatures_long.ipynb",
   "provenance": []
  },
  "interpreter": {
   "hash": "811835dbfa265bda541e5728bad37389c3435c72610e344bad1bc057db90fb2d"
  },
  "kernelspec": {
   "display_name": "Python 3.9.5 64-bit ('customer_churn_CajaMaynas': conda)",
   "name": "python3"
  },
  "language_info": {
   "codemirror_mode": {
    "name": "ipython",
    "version": 3
   },
   "file_extension": ".py",
   "mimetype": "text/x-python",
   "name": "python",
   "nbconvert_exporter": "python",
   "pygments_lexer": "ipython3",
   "version": "3.9.5"
  }
 },
 "nbformat": 4,
 "nbformat_minor": 1
}
