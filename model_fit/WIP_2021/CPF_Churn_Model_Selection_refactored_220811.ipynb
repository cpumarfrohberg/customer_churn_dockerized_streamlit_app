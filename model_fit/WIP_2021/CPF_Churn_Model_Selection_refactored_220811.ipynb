{
 "cells": [
  {
   "cell_type": "markdown",
   "metadata": {
    "id": "wOwjPJwVhp6T"
   },
   "source": [
    "# Customer Churn - Savings Bank"
   ]
  },
  {
   "cell_type": "code",
   "execution_count": 1,
   "metadata": {},
   "outputs": [],
   "source": [
    "## TODO: clarify why the loop in the timestamp_data-fct is only returning the last element of the frames-list...the loop should \n",
    "# insert both X_train as well as X_val into the empty list \"transformed_data_list\"\n",
    "## train a NB-classifier\n",
    "## refactor performance (redundant in its current version), incl. summary of model performance\n",
    "## fit best model on complete X_train and save it\n",
    "\n",
    "## fit DT model on complete X_train and save\n",
    "## transform to .py-script\n",
    "## decide: deployment on streamlit, dockerize and then on AWS"
   ]
  },
  {
   "cell_type": "code",
   "execution_count": 2,
   "metadata": {
    "colab": {
     "base_uri": "https://localhost:8080/"
    },
    "id": "FhyRUr4Rhp6U",
    "outputId": "588dc42d-dc2a-4c87-eaa5-98c239831cea"
   },
   "outputs": [],
   "source": [
    "import pandas as pd\n",
    "import matplotlib.pyplot as plt\n",
    "\n",
    "from sklearn.linear_model import LogisticRegression\n",
    "from sklearn.tree import DecisionTreeClassifier\n",
    "from sklearn.ensemble import RandomForestClassifier\n",
    "from sklearn.naive_bayes import MultinomialNB\n",
    "from sklearn.model_selection import train_test_split, GridSearchCV\n",
    "from sklearn.preprocessing import MinMaxScaler, OneHotEncoder, KBinsDiscretizer\n",
    "from sklearn.pipeline import Pipeline\n",
    "from sklearn.compose import ColumnTransformer\n",
    "from sklearn.metrics import plot_roc_curve, confusion_matrix, roc_auc_score, f1_score\n",
    "\n",
    "import pickle\n",
    "\n",
    "import warnings\n",
    "warnings.filterwarnings(\"ignore\")"
   ]
  },
  {
   "cell_type": "code",
   "execution_count": 3,
   "metadata": {},
   "outputs": [],
   "source": [
    "def include_timestamps(df):\n",
    "    \"\"\"\n",
    "    @params:\n",
    "        - df: an initial DataFrame.\n",
    "    @return:\n",
    "        - df: a DataFrame including timestamps for months and years.\n",
    "    \"\"\"\n",
    "    df[\"Year\"] = df.index.year\n",
    "    df[\"Month\"] = df.index.month\n",
    "    return df"
   ]
  },
  {
   "cell_type": "code",
   "execution_count": 4,
   "metadata": {},
   "outputs": [],
   "source": [
    "def performance_metrics(y_val, y_pred):\n",
    "    \"\"\"\n",
    "    @params:\n",
    "    - labels and prediction Series.\n",
    "    \n",
    "    @return:\n",
    "    - prints  roc-auc- and f1-scores predictors.\n",
    "    \"\"\"\n",
    "    \n",
    "    metrics = [\"roc_auc_score\", \"f1_score\"]\n",
    "    \n",
    "    for metric in metrics:\n",
    "        auc = round(roc_auc_score(y_val, y_pred), 2)\n",
    "        f1 = round(f1_score(y_val, y_pred), 2)\n",
    "        cm = confusion_matrix(y_val, y_pred)\n",
    "    print(f\"Classifier has an ROC-AUC-score of {auc} and an f1-score of {f1}.\\nIts confusion matrix is {cm}\")"
   ]
  },
  {
   "cell_type": "code",
   "execution_count": 5,
   "metadata": {},
   "outputs": [],
   "source": [
    "def model_fit(model, df, labels):\n",
    "    \"\"\"\n",
    "    @params:\n",
    "    - Takes model to be fit, transformed dataset and labels.\n",
    "    @return:\n",
    "    - Returns fitted model.\n",
    "    \"\"\"\n",
    "    df = df.copy()\n",
    "    labels = labels.copy(),\n",
    "    return model.fit(df, labels)"
   ]
  },
  {
   "cell_type": "code",
   "execution_count": 6,
   "metadata": {},
   "outputs": [],
   "source": [
    "def timestamp_data(frames_list, data):\n",
    "    \"\"\"\n",
    "    @params:\n",
    "    - Takes a list of Dataframes, consisting of X_train and X_val.\n",
    "    @return:\n",
    "    - Returns a list of timestamped data, both re X_train as well as X_val.\n",
    "    \"\"\"\n",
    "    transformed_data_list = []\n",
    "    for df in frames_list:\n",
    "        data_timestamped = include_timestamps(df)\n",
    "        transformed_data_list.append(data_timestamped)\n",
    "        return transformed_data_list"
   ]
  },
  {
   "cell_type": "markdown",
   "metadata": {
    "id": "1UHog3Q8hp6V"
   },
   "source": [
    "### Reading in and inspecting data"
   ]
  },
  {
   "cell_type": "code",
   "execution_count": 7,
   "metadata": {
    "id": "8sXcgAu0hp6V"
   },
   "outputs": [],
   "source": [
    "df = pd.read_csv(\"../data/Tabla_01_English_Unique_postEDA.csv\", index_col=0, parse_dates=True)"
   ]
  },
  {
   "cell_type": "code",
   "execution_count": 8,
   "metadata": {},
   "outputs": [
    {
     "data": {
      "text/plain": [
       "Client_ID                                  int64\n",
       "Resident_Capital                           int64\n",
       "Client_Age_Years                           int64\n",
       "Client_Sex                                 int64\n",
       "Client_Married                             int64\n",
       "Amount_Last_Disbursement                 float64\n",
       "n(Months)_Since_Last_Disbursement          int64\n",
       "n(Months)_Client_Relationship              int64\n",
       "n(Months)_LO_Active_Employee               int64\n",
       "Client_Status_Post3Months                  int64\n",
       "Client_Status_Post6Months                  int64\n",
       "LO_Active_Employee_Post3Months             int64\n",
       "LO_Active_Employee_Post6Months             int64\n",
       "n(Loans)_Outstanding_Maynas                int64\n",
       "n(Loans)_Outstanding_Other                 int64\n",
       "n(Additional_Loans)_Post3Months            int64\n",
       "n(Additional_Loans)_Post6Months            int64\n",
       "Total_Accumulated_Interest_per_Client      int64\n",
       "LO_Active_Employee_Prior3Months            int64\n",
       "LO_Active_Employee_Prior6Months            int64\n",
       "n(Additional_Loans)_Pre3Months             int64\n",
       "n(Additional_Loans)_Pre6Months             int64\n",
       "LO_Changed                                 int64\n",
       "n(Months)_Change_LO                        int64\n",
       "dtype: object"
      ]
     },
     "execution_count": 8,
     "metadata": {},
     "output_type": "execute_result"
    }
   ],
   "source": [
    "df.dtypes"
   ]
  },
  {
   "cell_type": "markdown",
   "metadata": {
    "id": "b2yjmgeihp6Z"
   },
   "source": [
    "### Define X, y and split data (using complete dataset, i.e. years 2018 - may 2021 for fitting and evaluating models)."
   ]
  },
  {
   "cell_type": "code",
   "execution_count": 9,
   "metadata": {
    "colab": {
     "base_uri": "https://localhost:8080/"
    },
    "id": "nJli4qn2hp6Z",
    "outputId": "887402d9-0b43-48b6-dbec-7785c2e86fec"
   },
   "outputs": [
    {
     "data": {
      "text/plain": [
       "((4304, 13), (4304,))"
      ]
     },
     "execution_count": 9,
     "metadata": {},
     "output_type": "execute_result"
    }
   ],
   "source": [
    "X = df[[\"n(Months)_Since_Last_Disbursement\", \"n(Months)_Client_Relationship\", \"n(Months)_LO_Active_Employee\", \"n(Loans)_Outstanding_Maynas\", \"n(Loans)_Outstanding_Other\", \"n(Additional_Loans)_Post3Months\", \"n(Additional_Loans)_Post6Months\", \"LO_Active_Employee_Post3Months\", \"LO_Active_Employee_Prior6Months\",\"LO_Active_Employee_Post6Months\", \"Client_Age_Years\", \"Amount_Last_Disbursement\", \"Total_Accumulated_Interest_per_Client\"]] # features selected based on calculation of feature importance in NB \"all features\".\n",
    "y = df[\"Client_Status_Post3Months\"]  \n",
    "X.shape, y.shape"
   ]
  },
  {
   "cell_type": "code",
   "execution_count": 10,
   "metadata": {
    "id": "Fwl9wH-Thp6Z"
   },
   "outputs": [],
   "source": [
    "X_train, X_val, y_train, y_val = train_test_split(X, y, test_size=0.2, random_state=42, stratify = y) "
   ]
  },
  {
   "cell_type": "code",
   "execution_count": 11,
   "metadata": {},
   "outputs": [
    {
     "data": {
      "text/plain": [
       "Index(['n(Months)_Since_Last_Disbursement', 'n(Months)_Client_Relationship',\n",
       "       'n(Months)_LO_Active_Employee', 'n(Loans)_Outstanding_Maynas',\n",
       "       'n(Loans)_Outstanding_Other', 'n(Additional_Loans)_Post3Months',\n",
       "       'n(Additional_Loans)_Post6Months', 'LO_Active_Employee_Post3Months',\n",
       "       'LO_Active_Employee_Prior6Months', 'LO_Active_Employee_Post6Months',\n",
       "       'Client_Age_Years', 'Amount_Last_Disbursement',\n",
       "       'Total_Accumulated_Interest_per_Client'],\n",
       "      dtype='object')"
      ]
     },
     "execution_count": 11,
     "metadata": {},
     "output_type": "execute_result"
    }
   ],
   "source": [
    "X_train.columns"
   ]
  },
  {
   "cell_type": "code",
   "execution_count": 12,
   "metadata": {
    "colab": {
     "base_uri": "https://localhost:8080/"
    },
    "id": "JQJY73a2hp6Z",
    "outputId": "44175f01-6063-411e-9789-292d391a2aa3"
   },
   "outputs": [
    {
     "data": {
      "text/plain": [
       "((3443, 13), (3443,), (861, 13), (861,))"
      ]
     },
     "execution_count": 12,
     "metadata": {},
     "output_type": "execute_result"
    }
   ],
   "source": [
    "X_train.shape, y_train.shape, X_val.shape, y_val.shape"
   ]
  },
  {
   "cell_type": "markdown",
   "metadata": {
    "id": "odY9IBeshp6Z"
   },
   "source": [
    "### Feature Engineering (only LogReg): timestamps, binning and scaling"
   ]
  },
  {
   "cell_type": "code",
   "execution_count": 13,
   "metadata": {},
   "outputs": [],
   "source": [
    "frames = [X_train, X_val]"
   ]
  },
  {
   "cell_type": "code",
   "execution_count": 17,
   "metadata": {},
   "outputs": [
    {
     "data": {
      "text/plain": [
       "Index(['n(Months)_Since_Last_Disbursement', 'n(Months)_Client_Relationship',\n",
       "       'n(Months)_LO_Active_Employee', 'n(Loans)_Outstanding_Maynas',\n",
       "       'n(Loans)_Outstanding_Other', 'n(Additional_Loans)_Post3Months',\n",
       "       'n(Additional_Loans)_Post6Months', 'LO_Active_Employee_Post3Months',\n",
       "       'LO_Active_Employee_Prior6Months', 'LO_Active_Employee_Post6Months',\n",
       "       'Client_Age_Years', 'Amount_Last_Disbursement',\n",
       "       'Total_Accumulated_Interest_per_Client', 'Year', 'Month'],\n",
       "      dtype='object')"
      ]
     },
     "execution_count": 17,
     "metadata": {},
     "output_type": "execute_result"
    }
   ],
   "source": [
    "X_train_timestamped = timestamp_data(frames_list = frames, data = frames)[0]\n",
    "X_train_timestamped.columns\n",
    "# X_val_timestamped = timestamp_data(frames_list = frames, data = frames)[1]\n",
    "\n"
   ]
  },
  {
   "cell_type": "code",
   "execution_count": null,
   "metadata": {
    "colab": {
     "base_uri": "https://localhost:8080/"
    },
    "id": "w_ZC3yDEhp6Z",
    "outputId": "a1e7d4b8-9c3a-4b32-b4f7-245553904956"
   },
   "outputs": [],
   "source": [
    "X_train_timestamps = include_timestamps(X_train)"
   ]
  },
  {
   "cell_type": "code",
   "execution_count": null,
   "metadata": {},
   "outputs": [],
   "source": [
    "X_train_timestamps.columns"
   ]
  },
  {
   "cell_type": "code",
   "execution_count": null,
   "metadata": {},
   "outputs": [],
   "source": [
    "binnables = [\"n(Months)_Since_Last_Disbursement\", \"n(Months)_Client_Relationship\", \"n(Months)_LO_Active_Employee\", \"n(Loans)_Outstanding_Maynas\", \"n(Loans)_Outstanding_Other\", \"n(Additional_Loans)_Post3Months\", \"n(Additional_Loans)_Post6Months\", \"Year\", \"Month\"]"
   ]
  },
  {
   "cell_type": "code",
   "execution_count": null,
   "metadata": {},
   "outputs": [],
   "source": [
    "scalables = [\"Client_Age_Years\", \"Amount_Last_Disbursement\", \"Total_Accumulated_Interest_per_Client\"]"
   ]
  },
  {
   "cell_type": "code",
   "execution_count": null,
   "metadata": {
    "colab": {
     "base_uri": "https://localhost:8080/"
    },
    "id": "iokTrcKlhp6a",
    "outputId": "6d85a038-0ba0-4348-ca8f-1877f82a17b7"
   },
   "outputs": [],
   "source": [
    "weights = {0:0.41, 1:0.59} # rationale: taking inverse distribution of labels (see EDA on distribution of minority/majority groups)."
   ]
  },
  {
   "cell_type": "code",
   "execution_count": null,
   "metadata": {
    "colab": {
     "base_uri": "https://localhost:8080/"
    },
    "id": "OL1OnDy1hp6b",
    "outputId": "e0920a15-f54e-45e4-98a3-52c7e981a6ae"
   },
   "outputs": [],
   "source": [
    "transformer_LogReg = ColumnTransformer(\n",
    "    [\n",
    "    (\"binner\", KBinsDiscretizer(), binnables),\n",
    "    (\"scaler\", MinMaxScaler(), scalables),\n",
    "    ],\n",
    "    remainder=\"passthrough\"\n",
    "    )"
   ]
  },
  {
   "cell_type": "code",
   "execution_count": null,
   "metadata": {
    "colab": {
     "base_uri": "https://localhost:8080/"
    },
    "id": "1og2MaR_hp6b",
    "outputId": "f0929288-543f-4c8e-bb78-477b9e96d202"
   },
   "outputs": [],
   "source": [
    "pipeline_LogReg = Pipeline(\n",
    "    [\n",
    "        (\"transformer\", transformer_LogReg),\n",
    "        (\"classifier\", LogisticRegression(class_weight = weights, random_state=42))\n",
    "    ]\n",
    "    )"
   ]
  },
  {
   "cell_type": "code",
   "execution_count": null,
   "metadata": {},
   "outputs": [],
   "source": [
    "clf_LogReg_fitted = pipeline_LogReg.fit(X_train, y_train)\n",
    "clf_LogReg_fitted"
   ]
  },
  {
   "cell_type": "code",
   "execution_count": null,
   "metadata": {},
   "outputs": [],
   "source": [
    "X_val_fe = "
   ]
  },
  {
   "cell_type": "markdown",
   "metadata": {
    "id": "-vAwtO0Khp6a"
   },
   "source": [
    "## Evaluate LogReg"
   ]
  },
  {
   "cell_type": "code",
   "execution_count": null,
   "metadata": {},
   "outputs": [],
   "source": [
    "model_LR_disp = plot_roc_curve(clf_LogReg_fitted, X_val_timestamps, y_val)\n",
    "plt.show()"
   ]
  },
  {
   "cell_type": "code",
   "execution_count": null,
   "metadata": {},
   "outputs": [],
   "source": [
    "pred_LogReg = clf_LogReg_fitted.predict(X_val_timestamps)"
   ]
  },
  {
   "cell_type": "code",
   "execution_count": null,
   "metadata": {},
   "outputs": [],
   "source": [
    "print(f\"Confusion Matrix:{confusion_matrix(y_val, pred_LogReg)}\")"
   ]
  },
  {
   "cell_type": "code",
   "execution_count": null,
   "metadata": {},
   "outputs": [],
   "source": [
    "performance_metrics(y_val, pred_LogReg)"
   ]
  },
  {
   "cell_type": "code",
   "execution_count": null,
   "metadata": {},
   "outputs": [],
   "source": [
    "train_accuracy = model_LR.score(X_train, y_train)\n",
    "train_accuracy"
   ]
  },
  {
   "cell_type": "code",
   "execution_count": null,
   "metadata": {},
   "outputs": [],
   "source": [
    "val_accuracy = model_LR.score(X_val, y_val)\n",
    "val_accuracy"
   ]
  },
  {
   "cell_type": "code",
   "execution_count": null,
   "metadata": {},
   "outputs": [],
   "source": []
  },
  {
   "cell_type": "code",
   "execution_count": null,
   "metadata": {},
   "outputs": [],
   "source": []
  },
  {
   "cell_type": "code",
   "execution_count": null,
   "metadata": {},
   "outputs": [],
   "source": []
  },
  {
   "cell_type": "code",
   "execution_count": null,
   "metadata": {},
   "outputs": [],
   "source": []
  },
  {
   "cell_type": "markdown",
   "metadata": {
    "id": "qZEX9mVyhp6b"
   },
   "source": [
    "### Fit a Random Forest model"
   ]
  },
  {
   "cell_type": "markdown",
   "metadata": {},
   "source": [
    "### Grid Search for hyperparameter tuning: Random Forest Classifier"
   ]
  },
  {
   "cell_type": "code",
   "execution_count": null,
   "metadata": {
    "id": "Lm8_zyVahp6b"
   },
   "outputs": [],
   "source": [
    "model_RF = RandomForestClassifier(max_depth=10, min_samples_split=3, n_estimators=63, random_state=42) # params from manual tuning"
   ]
  },
  {
   "cell_type": "code",
   "execution_count": null,
   "metadata": {
    "colab": {
     "base_uri": "https://localhost:8080/"
    },
    "id": "DcjXZvzFKM_1",
    "outputId": "1b6da5eb-f6dc-4019-d3bf-c809e9c915b7"
   },
   "outputs": [],
   "source": [
    "X_train.copy()\n",
    "y_train.copy()"
   ]
  },
  {
   "cell_type": "code",
   "execution_count": null,
   "metadata": {
    "colab": {
     "base_uri": "https://localhost:8080/"
    },
    "id": "FdIsbfG4kh21",
    "outputId": "d282ddef-8e9e-44f8-8e16-0504e0be221e"
   },
   "outputs": [],
   "source": [
    "model_RF.fit(X_train, y_train)"
   ]
  },
  {
   "cell_type": "markdown",
   "metadata": {},
   "source": [
    "### Make predictions."
   ]
  },
  {
   "cell_type": "code",
   "execution_count": null,
   "metadata": {
    "colab": {
     "base_uri": "https://localhost:8080/"
    },
    "id": "8GBqDksyKlvS",
    "outputId": "e824b652-7ada-49ba-8598-738bb544e04e"
   },
   "outputs": [],
   "source": [
    "ypred_RF = model_RF.predict(X_val)\n"
   ]
  },
  {
   "cell_type": "code",
   "execution_count": null,
   "metadata": {},
   "outputs": [],
   "source": [
    "probs_RF = model_RF.predict_proba(X_val) \n",
    "probs_RF"
   ]
  },
  {
   "cell_type": "markdown",
   "metadata": {
    "id": "Pv94Ffz_hp6b"
   },
   "source": [
    "### Evaluate Random Forest: ROC curve "
   ]
  },
  {
   "cell_type": "code",
   "execution_count": null,
   "metadata": {
    "colab": {
     "base_uri": "https://localhost:8080/",
     "height": 279
    },
    "id": "7uP9sPkHhp6b",
    "outputId": "2bc58626-c387-40dc-e885-e43aa3296f08"
   },
   "outputs": [],
   "source": [
    "ax = plt.gca()\n",
    "\n",
    "model_RF_disp = plot_roc_curve(model_RF, X_val, y_val, ax=ax, alpha=0.8)\n",
    "model_LR_disp.plot(ax=ax, alpha=0.8)\n",
    "\n",
    "plt.show() "
   ]
  },
  {
   "cell_type": "markdown",
   "metadata": {},
   "source": [
    "### Evaluate Random Forest: confusion matrix and AUC"
   ]
  },
  {
   "cell_type": "code",
   "execution_count": null,
   "metadata": {},
   "outputs": [],
   "source": [
    "print(f\"Confusion Matrix: \\n{confusion_matrix(y_val, ypred_RF)}\")\n",
    "print(f\"Area Under Curve: {roc_auc_score(y_val, ypred_RF).round(2)}\")\n",
    "print(f\"f1 - score: {f1_score(y_val, ypred_RF).round(2)}\")"
   ]
  },
  {
   "cell_type": "code",
   "execution_count": null,
   "metadata": {},
   "outputs": [],
   "source": [
    "auc_RF = roc_auc_score(y_val, ypred_RF)\n",
    "f1_RF = f1_score(y_val, ypred_RF)"
   ]
  },
  {
   "cell_type": "markdown",
   "metadata": {},
   "source": [
    "Interpretation:\n",
    "- re Confusion Matrix: out of 529 predictions regarding the positive class, 100% were predicted correctly. Model seems to be overfitting!\n",
    "- Out of 332 predictions regarding the negative class, 12% were predicted incorrectly (false negatives).\n",
    "- f1 - score:  94% (vs. initially 93%)\n",
    "- re AUC: the likelihood that a randomly selected customer from the minority group is scored higher than the a randomly selected customer from the majority group is 94% - as in first version."
   ]
  },
  {
   "cell_type": "code",
   "execution_count": null,
   "metadata": {},
   "outputs": [],
   "source": [
    "train_accuracy = model_RF.score(X_train, y_train)\n",
    "train_accuracy"
   ]
  },
  {
   "cell_type": "code",
   "execution_count": null,
   "metadata": {},
   "outputs": [],
   "source": [
    "val_accuracy = model_RF.score(X_val, y_val)\n",
    "val_accuracy"
   ]
  },
  {
   "cell_type": "markdown",
   "metadata": {},
   "source": [
    "=> reduction in overfitting!"
   ]
  },
  {
   "cell_type": "markdown",
   "metadata": {
    "id": "kp9Ql1rqhp6c"
   },
   "source": [
    "### Fit a Decision Tree model"
   ]
  },
  {
   "cell_type": "code",
   "execution_count": null,
   "metadata": {
    "id": "bOBAlakehp6c"
   },
   "outputs": [],
   "source": [
    "model_DT = DecisionTreeClassifier(max_depth=6, random_state=42) # param from manual tuning"
   ]
  },
  {
   "cell_type": "code",
   "execution_count": null,
   "metadata": {
    "colab": {
     "base_uri": "https://localhost:8080/"
    },
    "id": "R_B5PN6RLbie",
    "outputId": "0834bd69-c4a4-4445-8661-6a9abe0be58b"
   },
   "outputs": [],
   "source": [
    "X_train.copy()\n",
    "y_train.copy()"
   ]
  },
  {
   "cell_type": "code",
   "execution_count": null,
   "metadata": {
    "colab": {
     "base_uri": "https://localhost:8080/"
    },
    "id": "UH8fWjdahp6c",
    "outputId": "c7b97320-beeb-486a-fcc6-ef9c13880143"
   },
   "outputs": [],
   "source": [
    "model_DT.fit(X_train, y_train)"
   ]
  },
  {
   "cell_type": "markdown",
   "metadata": {},
   "source": [
    "### Make predictions."
   ]
  },
  {
   "cell_type": "code",
   "execution_count": null,
   "metadata": {
    "colab": {
     "base_uri": "https://localhost:8080/"
    },
    "id": "F-yYj3pnhp6c",
    "outputId": "b63d40a2-04c2-434c-cb7a-21ca0ea5cc4f"
   },
   "outputs": [],
   "source": [
    "ypred_DT = model_DT.predict(X_val)"
   ]
  },
  {
   "cell_type": "code",
   "execution_count": null,
   "metadata": {
    "colab": {
     "base_uri": "https://localhost:8080/"
    },
    "id": "pCOe2-bihp6c",
    "outputId": "cbe15680-4937-42e7-d4a2-7c0646004c7f"
   },
   "outputs": [],
   "source": [
    "probs_DT = model_DT.predict_proba(X_val)\n",
    "probs_DT"
   ]
  },
  {
   "cell_type": "markdown",
   "metadata": {},
   "source": [
    "### Evaluate Decision Tree: ROC curve "
   ]
  },
  {
   "cell_type": "code",
   "execution_count": null,
   "metadata": {
    "colab": {
     "base_uri": "https://localhost:8080/",
     "height": 279
    },
    "id": "WTFUPgaQhp6c",
    "outputId": "833e8f9f-98f3-40c7-cf3f-9dcb94a5def2"
   },
   "outputs": [],
   "source": [
    "ax = plt.gca()\n",
    "\n",
    "model_DT_disp = plot_roc_curve(model_DT, X_val, y_val, ax=ax, alpha=0.8)\n",
    "model_RF_disp.plot(ax=ax, alpha=0.8)\n",
    "model_LR_disp.plot(ax=ax, alpha=0.8)\n",
    "\n",
    "plt.show()"
   ]
  },
  {
   "cell_type": "markdown",
   "metadata": {},
   "source": [
    "### Evaluate Decision Tree: confusion matrix and AUC"
   ]
  },
  {
   "cell_type": "code",
   "execution_count": null,
   "metadata": {},
   "outputs": [],
   "source": [
    "print(f\"Confusion Matrix: \\n{confusion_matrix(y_val, ypred_DT)}\")\n",
    "print(f\"Area Under Curve: {roc_auc_score(y_val, ypred_DT).round(2)}\")\n",
    "print(f\"f1 - score: {f1_score(y_val, ypred_DT).round(2)}\")"
   ]
  },
  {
   "cell_type": "code",
   "execution_count": null,
   "metadata": {},
   "outputs": [],
   "source": [
    "auc_DT = roc_auc_score(y_val, ypred_DT)\n",
    "f1_DT = f1_score(y_val, ypred_DT)"
   ]
  },
  {
   "cell_type": "markdown",
   "metadata": {},
   "source": [
    "Interpretation:\n",
    "- re Confusion Matrix: out of 332 predictions regarding the positive class, 90% were predicted correctly. As such, DT shows best precision of all models. Out of 529 predictions regarding the negative class, 6% were predicted incorrectly (false negatives). \n",
    "- f1 - score = 89.95% \n",
    "- re AUC: the likelihood that a randomly selected customer from the minority group is scored higher than the a randomly selected customer from the majority group is 92% in the case of a Decision Tree classifier (vs. 94% of a Random Forest classifier)."
   ]
  },
  {
   "cell_type": "code",
   "execution_count": null,
   "metadata": {},
   "outputs": [],
   "source": [
    "train_accuracy = model_DT.score(X_train, y_train)\n",
    "train_accuracy"
   ]
  },
  {
   "cell_type": "code",
   "execution_count": null,
   "metadata": {},
   "outputs": [],
   "source": [
    "val_accuracy = model_DT.score(X_val, y_val)\n",
    "val_accuracy"
   ]
  },
  {
   "cell_type": "markdown",
   "metadata": {},
   "source": [
    "=> reduction in overfitting!"
   ]
  },
  {
   "cell_type": "markdown",
   "metadata": {},
   "source": [
    "### Summary model evaluation: AUC"
   ]
  },
  {
   "cell_type": "code",
   "execution_count": null,
   "metadata": {},
   "outputs": [],
   "source": [
    "auc = [[\"LogReg\", auc_LR], [\"Tree\",  auc_DT], [\"RF\",  auc_RF]]\n",
    "auc  = pd.DataFrame(auc , columns = [\"Model\", \"auc\"])\n",
    "auc.sort_values(by=[\"auc\"], inplace=True, ascending = False)\n",
    "auc.set_index([\"Model\"])"
   ]
  },
  {
   "cell_type": "markdown",
   "metadata": {},
   "source": [
    "### Summary model evaluation: f1 - score"
   ]
  },
  {
   "cell_type": "code",
   "execution_count": null,
   "metadata": {},
   "outputs": [],
   "source": [
    "f1 = [[\"LogReg\", f1_LR], [\"Tree\",  f1_DT], [\"RF\",  f1_RF]]\n",
    "f1  = pd.DataFrame(f1 , columns = [\"Model\", \"f1\"])\n",
    "f1.sort_values(by=[\"f1\"], inplace=True, ascending = False)\n",
    "f1.set_index([\"Model\"])"
   ]
  },
  {
   "cell_type": "markdown",
   "metadata": {
    "id": "UVHlA5BaE4L_"
   },
   "source": [
    "#### Interpretation\n",
    "* Random Forest Model shows best performance (based on AUC and f1-score).\n",
    "* Both RF as well as Tree perform better than LogReg.\n",
    "* All models tend to overfit less than with the complete dataset.\n",
    "* LogReg suffers performance, in comparison with model trained on all features."
   ]
  },
  {
   "cell_type": "markdown",
   "metadata": {
    "id": "FDUzmgNVhp6c"
   },
   "source": [
    "## Saving the Random Forest model."
   ]
  },
  {
   "cell_type": "code",
   "execution_count": null,
   "metadata": {},
   "outputs": [],
   "source": [
    "with open(\"../artefacts/churn-model.bin\", \"wb\") as f_out:\n",
    "    pickle.dump(model_RF, f_out) "
   ]
  }
 ],
 "metadata": {
  "colab": {
   "collapsed_sections": [
    "gHC3XVYchp6d"
   ],
   "name": "Customer_Churn_SavingsBank_AllFeatures_long.ipynb",
   "provenance": []
  },
  "interpreter": {
   "hash": "811835dbfa265bda541e5728bad37389c3435c72610e344bad1bc057db90fb2d"
  },
  "kernelspec": {
   "display_name": "Python 3",
   "language": "python",
   "name": "python3"
  },
  "language_info": {
   "codemirror_mode": {
    "name": "ipython",
    "version": 3
   },
   "file_extension": ".py",
   "mimetype": "text/x-python",
   "name": "python",
   "nbconvert_exporter": "python",
   "pygments_lexer": "ipython3",
   "version": "3.9.5"
  }
 },
 "nbformat": 4,
 "nbformat_minor": 1
}
