{
 "cells": [
  {
   "cell_type": "markdown",
   "metadata": {
    "id": "wOwjPJwVhp6T"
   },
   "source": [
    "# Customer Churn - Savings Bank - Model Testing"
   ]
  },
  {
   "cell_type": "code",
   "execution_count": 1,
   "metadata": {
    "colab": {
     "base_uri": "https://localhost:8080/"
    },
    "id": "FhyRUr4Rhp6U",
    "outputId": "588dc42d-dc2a-4c87-eaa5-98c239831cea"
   },
   "outputs": [],
   "source": [
    "import pandas as pd\n",
    "\n",
    "from sklearn.preprocessing import MinMaxScaler\n",
    "\n",
    "import pickle\n",
    "\n",
    "import warnings\n",
    "warnings.filterwarnings(\"ignore\")"
   ]
  },
  {
   "cell_type": "code",
   "execution_count": 2,
   "metadata": {
    "id": "8sXcgAu0hp6V"
   },
   "outputs": [],
   "source": [
    "df = pd.read_csv(\"../data/Tabla_01_English_Unique_postEDA.csv\", index_col=0, parse_dates=True) # complete dataset for time period 01.01.2018 - 31.05.2021\n"
   ]
  },
  {
   "cell_type": "code",
   "execution_count": 3,
   "metadata": {},
   "outputs": [
    {
     "name": "stdout",
     "output_type": "stream",
     "text": [
      "<class 'pandas.core.frame.DataFrame'>\n",
      "DatetimeIndex: 4304 entries, 2018-01-31 to 2021-05-31\n",
      "Data columns (total 24 columns):\n",
      " #   Column                                 Non-Null Count  Dtype  \n",
      "---  ------                                 --------------  -----  \n",
      " 0   Client_ID                              4304 non-null   int64  \n",
      " 1   Resident_Capital                       4304 non-null   int64  \n",
      " 2   Client_Age_Years                       4304 non-null   int64  \n",
      " 3   Client_Sex                             4304 non-null   int64  \n",
      " 4   Client_Married                         4304 non-null   int64  \n",
      " 5   Amount_Last_Disbursement               4304 non-null   float64\n",
      " 6   n(Months)_Since_Last_Disbursement      4304 non-null   int64  \n",
      " 7   n(Months)_Client_Relationship          4304 non-null   int64  \n",
      " 8   n(Months)_LO_Active_Employee           4304 non-null   int64  \n",
      " 9   Client_Status_Post3Months              4304 non-null   int64  \n",
      " 10  Client_Status_Post6Months              4304 non-null   int64  \n",
      " 11  LO_Active_Employee_Post3Months         4304 non-null   int64  \n",
      " 12  LO_Active_Employee_Post6Months         4304 non-null   int64  \n",
      " 13  n(Loans)_Outstanding_Maynas            4304 non-null   int64  \n",
      " 14  n(Loans)_Outstanding_Other             4304 non-null   int64  \n",
      " 15  n(Additional_Loans)_Post3Months        4304 non-null   int64  \n",
      " 16  n(Additional_Loans)_Post6Months        4304 non-null   int64  \n",
      " 17  Total_Accumulated_Interest_per_Client  4304 non-null   int64  \n",
      " 18  LO_Active_Employee_Prior3Months        4304 non-null   int64  \n",
      " 19  LO_Active_Employee_Prior6Months        4304 non-null   int64  \n",
      " 20  n(Additional_Loans)_Pre3Months         4304 non-null   int64  \n",
      " 21  n(Additional_Loans)_Pre6Months         4304 non-null   int64  \n",
      " 22  LO_Changed                             4304 non-null   int64  \n",
      " 23  n(Months)_Change_LO                    4304 non-null   int64  \n",
      "dtypes: float64(1), int64(23)\n",
      "memory usage: 840.6 KB\n"
     ]
    },
    {
     "data": {
      "text/plain": [
       "(None, (4304, 24))"
      ]
     },
     "execution_count": 3,
     "metadata": {},
     "output_type": "execute_result"
    }
   ],
   "source": [
    "df.info(), df.shape"
   ]
  },
  {
   "cell_type": "code",
   "execution_count": 4,
   "metadata": {},
   "outputs": [
    {
     "data": {
      "text/plain": [
       "Index(['Client_ID', 'Resident_Capital', 'Client_Age_Years', 'Client_Sex',\n",
       "       'Client_Married', 'Amount_Last_Disbursement',\n",
       "       'n(Months)_Since_Last_Disbursement', 'n(Months)_Client_Relationship',\n",
       "       'n(Months)_LO_Active_Employee', 'Client_Status_Post3Months',\n",
       "       'Client_Status_Post6Months', 'LO_Active_Employee_Post3Months',\n",
       "       'LO_Active_Employee_Post6Months', 'n(Loans)_Outstanding_Maynas',\n",
       "       'n(Loans)_Outstanding_Other', 'n(Additional_Loans)_Post3Months',\n",
       "       'n(Additional_Loans)_Post6Months',\n",
       "       'Total_Accumulated_Interest_per_Client',\n",
       "       'LO_Active_Employee_Prior3Months', 'LO_Active_Employee_Prior6Months',\n",
       "       'n(Additional_Loans)_Pre3Months', 'n(Additional_Loans)_Pre6Months',\n",
       "       'LO_Changed', 'n(Months)_Change_LO'],\n",
       "      dtype='object')"
      ]
     },
     "execution_count": 4,
     "metadata": {},
     "output_type": "execute_result"
    }
   ],
   "source": [
    "df.columns"
   ]
  },
  {
   "cell_type": "code",
   "execution_count": 5,
   "metadata": {},
   "outputs": [],
   "source": [
    "df.rename(columns={\n",
    "    \"LO_Active_Employee_Prior3Months\":\"LO_Still_Hired_Prior3Months\",\n",
    "    \"LO_Active_Employee_Post3Months\":\"LO_Still_Hired_Post3Months\",\n",
    "    \"LO_Active_Employee_Post6Months\":\"LO_Still_Hired_Post6Months\"\n",
    "    },\n",
    "    inplace=True\n",
    ")"
   ]
  },
  {
   "cell_type": "code",
   "execution_count": 6,
   "metadata": {},
   "outputs": [
    {
     "data": {
      "text/plain": [
       "Index(['Client_ID', 'Resident_Capital', 'Client_Age_Years', 'Client_Sex',\n",
       "       'Client_Married', 'Amount_Last_Disbursement',\n",
       "       'n(Months)_Since_Last_Disbursement', 'n(Months)_Client_Relationship',\n",
       "       'n(Months)_LO_Active_Employee', 'Client_Status_Post3Months',\n",
       "       'Client_Status_Post6Months', 'LO_Still_Hired_Post3Months',\n",
       "       'LO_Still_Hired_Post6Months', 'n(Loans)_Outstanding_Maynas',\n",
       "       'n(Loans)_Outstanding_Other', 'n(Additional_Loans)_Post3Months',\n",
       "       'n(Additional_Loans)_Post6Months',\n",
       "       'Total_Accumulated_Interest_per_Client', 'LO_Still_Hired_Prior3Months',\n",
       "       'LO_Active_Employee_Prior6Months', 'n(Additional_Loans)_Pre3Months',\n",
       "       'n(Additional_Loans)_Pre6Months', 'LO_Changed', 'n(Months)_Change_LO'],\n",
       "      dtype='object')"
      ]
     },
     "execution_count": 6,
     "metadata": {},
     "output_type": "execute_result"
    }
   ],
   "source": [
    "df.columns"
   ]
  },
  {
   "cell_type": "markdown",
   "metadata": {
    "id": "1UHog3Q8hp6V"
   },
   "source": [
    "### Creating training data"
   ]
  },
  {
   "cell_type": "code",
   "execution_count": 7,
   "metadata": {},
   "outputs": [],
   "source": [
    "X_train = df[[\"Client_ID\", \"LO_Still_Hired_Post3Months\", \"LO_Still_Hired_Prior3Months\",\"LO_Still_Hired_Post6Months\"]]"
   ]
  },
  {
   "cell_type": "code",
   "execution_count": 8,
   "metadata": {},
   "outputs": [
    {
     "data": {
      "text/plain": [
       "(4304, 4)"
      ]
     },
     "execution_count": 8,
     "metadata": {},
     "output_type": "execute_result"
    }
   ],
   "source": [
    "X_train.shape"
   ]
  },
  {
   "cell_type": "code",
   "execution_count": 9,
   "metadata": {},
   "outputs": [],
   "source": [
    "y_train = df[[\"Client_Status_Post3Months\"]]"
   ]
  },
  {
   "cell_type": "code",
   "execution_count": 10,
   "metadata": {},
   "outputs": [
    {
     "data": {
      "text/plain": [
       "(4304, 1)"
      ]
     },
     "execution_count": 10,
     "metadata": {},
     "output_type": "execute_result"
    }
   ],
   "source": [
    "y_train.shape"
   ]
  },
  {
   "cell_type": "markdown",
   "metadata": {},
   "source": [
    "### Reading in testing data"
   ]
  },
  {
   "cell_type": "code",
   "execution_count": 11,
   "metadata": {},
   "outputs": [],
   "source": [
    "df2 = pd.read_csv(\"../data/Tabla_01_test_English.csv\", index_col=0, parse_dates=True) # complete dataset for time period 01.06.2021 - 31.08.2021"
   ]
  },
  {
   "cell_type": "code",
   "execution_count": 12,
   "metadata": {},
   "outputs": [
    {
     "name": "stdout",
     "output_type": "stream",
     "text": [
      "<class 'pandas.core.frame.DataFrame'>\n",
      "DatetimeIndex: 15235 entries, 2021-06-30 to NaT\n",
      "Data columns (total 24 columns):\n",
      " #   Column                                 Non-Null Count  Dtype  \n",
      "---  ------                                 --------------  -----  \n",
      " 0   Client_ID                              1444 non-null   float64\n",
      " 1   Resident_Capital                       1444 non-null   float64\n",
      " 2   Client_Age_Years                       1444 non-null   float64\n",
      " 3   Client_Sex                             1444 non-null   float64\n",
      " 4   Client_Married                         1444 non-null   float64\n",
      " 5   Loan_Amount_Last_Disbursement          1444 non-null   float64\n",
      " 6   Number_Months_Last_Disbursement        1444 non-null   float64\n",
      " 7   Number_Months_Client_Relationship      1444 non-null   float64\n",
      " 8   Number_Months_LO_Hired                 1444 non-null   float64\n",
      " 9   Client_Status_Post3Months              1444 non-null   float64\n",
      " 10  Client_Status_Post6Months              1444 non-null   float64\n",
      " 11  LO_Still_Hired_Post3Months             1444 non-null   float64\n",
      " 12  LO_Still_Hired_Post6Months             1444 non-null   float64\n",
      " 13  Number_Loans_Outstanding_Maynas        1444 non-null   float64\n",
      " 14  Number_Loans_Outstanding_Other         1444 non-null   float64\n",
      " 15  Number_Additional_Loans_Post3Months    1444 non-null   float64\n",
      " 16  Number_Additional_Loans_Post6Months    1444 non-null   float64\n",
      " 17  Total_Accumulated_Interest_per_Client  1444 non-null   float64\n",
      " 18  LO_Still_Hired_Prior3Months            1444 non-null   float64\n",
      " 19  LO_Still_Hired_Prior6Months            1444 non-null   float64\n",
      " 20  Number_Additional_Loans_Pre3Months     1444 non-null   float64\n",
      " 21  Number_Additional_Loans_Pre6Months     1444 non-null   float64\n",
      " 22  New_LO                                 1444 non-null   float64\n",
      " 23  Number_Months_Change_LO                1444 non-null   float64\n",
      "dtypes: float64(24)\n",
      "memory usage: 2.9 MB\n"
     ]
    },
    {
     "data": {
      "text/plain": [
       "(None, (15235, 24))"
      ]
     },
     "execution_count": 12,
     "metadata": {},
     "output_type": "execute_result"
    }
   ],
   "source": [
    "df2.info(), df2.shape"
   ]
  },
  {
   "cell_type": "code",
   "execution_count": 13,
   "metadata": {},
   "outputs": [
    {
     "data": {
      "text/plain": [
       "Client_ID                                13791\n",
       "Resident_Capital                         13791\n",
       "Client_Age_Years                         13791\n",
       "Client_Sex                               13791\n",
       "Client_Married                           13791\n",
       "Loan_Amount_Last_Disbursement            13791\n",
       "Number_Months_Last_Disbursement          13791\n",
       "Number_Months_Client_Relationship        13791\n",
       "Number_Months_LO_Hired                   13791\n",
       "Client_Status_Post3Months                13791\n",
       "Client_Status_Post6Months                13791\n",
       "LO_Still_Hired_Post3Months               13791\n",
       "LO_Still_Hired_Post6Months               13791\n",
       "Number_Loans_Outstanding_Maynas          13791\n",
       "Number_Loans_Outstanding_Other           13791\n",
       "Number_Additional_Loans_Post3Months      13791\n",
       "Number_Additional_Loans_Post6Months      13791\n",
       "Total_Accumulated_Interest_per_Client    13791\n",
       "LO_Still_Hired_Prior3Months              13791\n",
       "LO_Still_Hired_Prior6Months              13791\n",
       "Number_Additional_Loans_Pre3Months       13791\n",
       "Number_Additional_Loans_Pre6Months       13791\n",
       "New_LO                                   13791\n",
       "Number_Months_Change_LO                  13791\n",
       "dtype: int64"
      ]
     },
     "execution_count": 13,
     "metadata": {},
     "output_type": "execute_result"
    }
   ],
   "source": [
    "df2.isna().sum()"
   ]
  },
  {
   "cell_type": "markdown",
   "metadata": {},
   "source": [
    "Dropping N.A.s, which for some reason have been created in the process of translating cols."
   ]
  },
  {
   "cell_type": "code",
   "execution_count": 14,
   "metadata": {},
   "outputs": [],
   "source": [
    "df2.dropna(axis=0, inplace=True)"
   ]
  },
  {
   "cell_type": "code",
   "execution_count": 15,
   "metadata": {},
   "outputs": [
    {
     "data": {
      "text/plain": [
       "(DatetimeIndex(['2021-06-30', '2021-06-30', '2021-06-30', '2021-06-30',\n",
       "                '2021-06-30', '2021-06-30', '2021-06-30', '2021-06-30',\n",
       "                '2021-06-30', '2021-06-30',\n",
       "                ...\n",
       "                '2021-08-31', '2021-08-31', '2021-08-31', '2021-08-31',\n",
       "                '2021-08-31', '2021-08-31', '2021-08-31', '2021-08-31',\n",
       "                '2021-08-31', '2021-08-31'],\n",
       "               dtype='datetime64[ns]', name='Fecha Cierre', length=1444, freq=None),\n",
       " (1444, 24))"
      ]
     },
     "execution_count": 15,
     "metadata": {},
     "output_type": "execute_result"
    }
   ],
   "source": [
    "df2.index[:], df2.shape"
   ]
  },
  {
   "cell_type": "markdown",
   "metadata": {},
   "source": [
    "Checking for duplicates."
   ]
  },
  {
   "cell_type": "code",
   "execution_count": 16,
   "metadata": {},
   "outputs": [
    {
     "data": {
      "text/html": [
       "<div>\n",
       "<style scoped>\n",
       "    .dataframe tbody tr th:only-of-type {\n",
       "        vertical-align: middle;\n",
       "    }\n",
       "\n",
       "    .dataframe tbody tr th {\n",
       "        vertical-align: top;\n",
       "    }\n",
       "\n",
       "    .dataframe thead th {\n",
       "        text-align: right;\n",
       "    }\n",
       "</style>\n",
       "<table border=\"1\" class=\"dataframe\">\n",
       "  <thead>\n",
       "    <tr style=\"text-align: right;\">\n",
       "      <th></th>\n",
       "      <th>Client_Status_Post3Months</th>\n",
       "      <th>Unique_Frequency</th>\n",
       "      <th>Frequency</th>\n",
       "    </tr>\n",
       "  </thead>\n",
       "  <tbody>\n",
       "    <tr>\n",
       "      <th>0</th>\n",
       "      <td>0.0</td>\n",
       "      <td>994</td>\n",
       "      <td>994</td>\n",
       "    </tr>\n",
       "    <tr>\n",
       "      <th>1</th>\n",
       "      <td>1.0</td>\n",
       "      <td>450</td>\n",
       "      <td>450</td>\n",
       "    </tr>\n",
       "  </tbody>\n",
       "</table>\n",
       "</div>"
      ],
      "text/plain": [
       "   Client_Status_Post3Months  Unique_Frequency  Frequency\n",
       "0                        0.0               994        994\n",
       "1                        1.0               450        450"
      ]
     },
     "execution_count": 16,
     "metadata": {},
     "output_type": "execute_result"
    }
   ],
   "source": [
    "d = df2.groupby([\"Client_Status_Post3Months\"]).agg({\"Client_ID\" : \"nunique\", \"Resident_Capital\" : \"count\"})\n",
    "d = d.reset_index()\n",
    "d = d.rename(columns={\"Client_ID\" : \"Unique_Frequency\", \"Resident_Capital\" : \"Frequency\"})\n",
    "d"
   ]
  },
  {
   "cell_type": "markdown",
   "metadata": {},
   "source": [
    "=> no duplicates..."
   ]
  },
  {
   "cell_type": "markdown",
   "metadata": {},
   "source": [
    "Reencoding target variable:"
   ]
  },
  {
   "cell_type": "code",
   "execution_count": 17,
   "metadata": {},
   "outputs": [],
   "source": [
    "df2[\"Client_Status_Post3Months\"] = df2[\"Client_Status_Post3Months\"].replace({0:1, 1:0})"
   ]
  },
  {
   "cell_type": "markdown",
   "metadata": {},
   "source": [
    "Checking class distributions:"
   ]
  },
  {
   "cell_type": "code",
   "execution_count": 18,
   "metadata": {},
   "outputs": [],
   "source": [
    "y_test = df2[\"Client_Status_Post3Months\"]"
   ]
  },
  {
   "cell_type": "code",
   "execution_count": 19,
   "metadata": {},
   "outputs": [
    {
     "data": {
      "text/plain": [
       "1.0    0.688366\n",
       "0.0    0.311634\n",
       "Name: Client_Status_Post3Months, dtype: float64"
      ]
     },
     "execution_count": 19,
     "metadata": {},
     "output_type": "execute_result"
    }
   ],
   "source": [
    "y_test.value_counts()/y_test.shape[0]"
   ]
  },
  {
   "cell_type": "code",
   "execution_count": 20,
   "metadata": {},
   "outputs": [],
   "source": [
    "X_test = df2[[\"Client_ID\", \"LO_Still_Hired_Post3Months\", \"LO_Still_Hired_Prior6Months\",\"LO_Still_Hired_Post6Months\"]]"
   ]
  },
  {
   "cell_type": "markdown",
   "metadata": {
    "id": "odY9IBeshp6Z"
   },
   "source": [
    "### Feature Engineering: training data"
   ]
  },
  {
   "cell_type": "code",
   "execution_count": 21,
   "metadata": {
    "colab": {
     "base_uri": "https://localhost:8080/"
    },
    "id": "w_ZC3yDEhp6Z",
    "outputId": "a1e7d4b8-9c3a-4b32-b4f7-245553904956"
   },
   "outputs": [],
   "source": [
    "X_train[\"Year\"] = X_train.index.year"
   ]
  },
  {
   "cell_type": "code",
   "execution_count": 22,
   "metadata": {
    "colab": {
     "base_uri": "https://localhost:8080/"
    },
    "id": "EqsqoO-Php6a",
    "outputId": "4083eaf5-4927-441c-c5f2-eee60a80985e"
   },
   "outputs": [],
   "source": [
    "X_train[\"Month\"] = X_train.index.month"
   ]
  },
  {
   "cell_type": "code",
   "execution_count": 23,
   "metadata": {
    "colab": {
     "base_uri": "https://localhost:8080/"
    },
    "id": "35KgZvTuJmqC",
    "outputId": "24cd58f7-5aaa-4c81-92f7-804b193abd45"
   },
   "outputs": [
    {
     "data": {
      "text/plain": [
       "Index(['Client_ID', 'LO_Still_Hired_Post3Months',\n",
       "       'LO_Still_Hired_Prior3Months', 'LO_Still_Hired_Post6Months', 'Year',\n",
       "       'Month'],\n",
       "      dtype='object')"
      ]
     },
     "execution_count": 23,
     "metadata": {},
     "output_type": "execute_result"
    }
   ],
   "source": [
    "X_train.columns"
   ]
  },
  {
   "cell_type": "code",
   "execution_count": 24,
   "metadata": {},
   "outputs": [],
   "source": [
    "scaler = MinMaxScaler()"
   ]
  },
  {
   "cell_type": "code",
   "execution_count": 25,
   "metadata": {},
   "outputs": [],
   "source": [
    "Xtrain_scaled = scaler.fit_transform(X_train)"
   ]
  },
  {
   "cell_type": "code",
   "execution_count": 26,
   "metadata": {
    "colab": {
     "base_uri": "https://localhost:8080/"
    },
    "id": "iokTrcKlhp6a",
    "outputId": "6d85a038-0ba0-4348-ca8f-1877f82a17b7"
   },
   "outputs": [
    {
     "data": {
      "text/plain": [
       "(4304, 6)"
      ]
     },
     "execution_count": 26,
     "metadata": {},
     "output_type": "execute_result"
    }
   ],
   "source": [
    "X_train.shape"
   ]
  },
  {
   "cell_type": "markdown",
   "metadata": {
    "id": "kFahELDvhp6b"
   },
   "source": [
    "### Feature Engineering: validation data"
   ]
  },
  {
   "cell_type": "code",
   "execution_count": 27,
   "metadata": {
    "colab": {
     "base_uri": "https://localhost:8080/"
    },
    "id": "OL1OnDy1hp6b",
    "outputId": "e0920a15-f54e-45e4-98a3-52c7e981a6ae"
   },
   "outputs": [],
   "source": [
    "X_test[\"Year\"] = X_test.index.year"
   ]
  },
  {
   "cell_type": "code",
   "execution_count": 28,
   "metadata": {
    "colab": {
     "base_uri": "https://localhost:8080/"
    },
    "id": "1og2MaR_hp6b",
    "outputId": "f0929288-543f-4c8e-bb78-477b9e96d202"
   },
   "outputs": [],
   "source": [
    "X_test[\"Month\"] = X_test.index.month"
   ]
  },
  {
   "cell_type": "code",
   "execution_count": 29,
   "metadata": {
    "colab": {
     "base_uri": "https://localhost:8080/"
    },
    "id": "uUTDFPEuJxvI",
    "outputId": "665ccfc1-0297-4013-fabd-375b2605444b"
   },
   "outputs": [
    {
     "data": {
      "text/plain": [
       "Index(['Client_ID', 'LO_Still_Hired_Post3Months',\n",
       "       'LO_Still_Hired_Prior6Months', 'LO_Still_Hired_Post6Months', 'Year',\n",
       "       'Month'],\n",
       "      dtype='object')"
      ]
     },
     "execution_count": 29,
     "metadata": {},
     "output_type": "execute_result"
    }
   ],
   "source": [
    "X_test.columns"
   ]
  },
  {
   "cell_type": "code",
   "execution_count": 30,
   "metadata": {},
   "outputs": [],
   "source": [
    "Xtest_scaled = scaler.transform(X_test)"
   ]
  },
  {
   "cell_type": "code",
   "execution_count": 31,
   "metadata": {
    "colab": {
     "base_uri": "https://localhost:8080/"
    },
    "id": "b6GKvDzdhp6b",
    "outputId": "3789c2ef-932f-4e5d-a64b-c9b8a6cb5ea6"
   },
   "outputs": [
    {
     "data": {
      "text/plain": [
       "(1444, 6)"
      ]
     },
     "execution_count": 31,
     "metadata": {},
     "output_type": "execute_result"
    }
   ],
   "source": [
    "X_test.shape"
   ]
  },
  {
   "cell_type": "markdown",
   "metadata": {},
   "source": [
    "## Import best-performing model (Random Forest) "
   ]
  },
  {
   "cell_type": "code",
   "execution_count": 32,
   "metadata": {},
   "outputs": [],
   "source": [
    "with open(\"../artefacts/churn-model.bin\", \"rb\") as f_in: \n",
    "    model = pickle.load(f_in)\n"
   ]
  },
  {
   "cell_type": "markdown",
   "metadata": {},
   "source": [
    "Train a model"
   ]
  },
  {
   "cell_type": "code",
   "execution_count": 33,
   "metadata": {},
   "outputs": [
    {
     "data": {
      "text/plain": [
       "RandomForestClassifier(max_depth=10, min_samples_split=3, n_estimators=63,\n",
       "                       random_state=42)"
      ]
     },
     "execution_count": 33,
     "metadata": {},
     "output_type": "execute_result"
    }
   ],
   "source": [
    "model.fit(X_train, y_train)"
   ]
  },
  {
   "cell_type": "markdown",
   "metadata": {},
   "source": [
    "### Make predictions."
   ]
  },
  {
   "cell_type": "code",
   "execution_count": 34,
   "metadata": {},
   "outputs": [],
   "source": [
    "ypred_hard = model.predict(X_test)"
   ]
  },
  {
   "cell_type": "code",
   "execution_count": 35,
   "metadata": {},
   "outputs": [
    {
     "data": {
      "text/plain": [
       "array([[0.79710262, 0.20289738],\n",
       "       [0.79710262, 0.20289738],\n",
       "       [0.79710262, 0.20289738],\n",
       "       ...,\n",
       "       [0.19438146, 0.80561854],\n",
       "       [0.19438146, 0.80561854],\n",
       "       [0.25297619, 0.74702381]])"
      ]
     },
     "execution_count": 35,
     "metadata": {},
     "output_type": "execute_result"
    }
   ],
   "source": [
    "ypred_soft = model.predict_proba(X_test)\n",
    "ypred_soft"
   ]
  },
  {
   "cell_type": "markdown",
   "metadata": {},
   "source": [
    "Checking predictions:"
   ]
  },
  {
   "cell_type": "code",
   "execution_count": 36,
   "metadata": {},
   "outputs": [
    {
     "data": {
      "text/html": [
       "<div>\n",
       "<style scoped>\n",
       "    .dataframe tbody tr th:only-of-type {\n",
       "        vertical-align: middle;\n",
       "    }\n",
       "\n",
       "    .dataframe tbody tr th {\n",
       "        vertical-align: top;\n",
       "    }\n",
       "\n",
       "    .dataframe thead th {\n",
       "        text-align: right;\n",
       "    }\n",
       "</style>\n",
       "<table border=\"1\" class=\"dataframe\">\n",
       "  <thead>\n",
       "    <tr style=\"text-align: right;\">\n",
       "      <th></th>\n",
       "      <th>Client_ID</th>\n",
       "      <th>LO_Still_Hired_Post3Months</th>\n",
       "      <th>LO_Still_Hired_Prior6Months</th>\n",
       "      <th>LO_Still_Hired_Post6Months</th>\n",
       "      <th>Year</th>\n",
       "      <th>Month</th>\n",
       "    </tr>\n",
       "    <tr>\n",
       "      <th>Fecha Cierre</th>\n",
       "      <th></th>\n",
       "      <th></th>\n",
       "      <th></th>\n",
       "      <th></th>\n",
       "      <th></th>\n",
       "      <th></th>\n",
       "    </tr>\n",
       "  </thead>\n",
       "  <tbody>\n",
       "    <tr>\n",
       "      <th>2021-08-31</th>\n",
       "      <td>1.090300e+12</td>\n",
       "      <td>0.0</td>\n",
       "      <td>0.0</td>\n",
       "      <td>0.0</td>\n",
       "      <td>2021</td>\n",
       "      <td>8</td>\n",
       "    </tr>\n",
       "  </tbody>\n",
       "</table>\n",
       "</div>"
      ],
      "text/plain": [
       "                 Client_ID  LO_Still_Hired_Post3Months  \\\n",
       "Fecha Cierre                                             \n",
       "2021-08-31    1.090300e+12                         0.0   \n",
       "\n",
       "              LO_Still_Hired_Prior6Months  LO_Still_Hired_Post6Months  Year  \\\n",
       "Fecha Cierre                                                                  \n",
       "2021-08-31                            0.0                         0.0  2021   \n",
       "\n",
       "              Month  \n",
       "Fecha Cierre         \n",
       "2021-08-31        8  "
      ]
     },
     "execution_count": 36,
     "metadata": {},
     "output_type": "execute_result"
    }
   ],
   "source": [
    "customer = X_test[-1:]\n",
    "customer"
   ]
  },
  {
   "cell_type": "code",
   "execution_count": 37,
   "metadata": {},
   "outputs": [
    {
     "data": {
      "text/plain": [
       "0.7470238095238095"
      ]
     },
     "execution_count": 37,
     "metadata": {},
     "output_type": "execute_result"
    }
   ],
   "source": [
    "model.predict_proba(customer)[0, 1] "
   ]
  },
  {
   "cell_type": "code",
   "execution_count": 38,
   "metadata": {},
   "outputs": [
    {
     "data": {
      "text/plain": [
       "1"
      ]
     },
     "execution_count": 38,
     "metadata": {},
     "output_type": "execute_result"
    }
   ],
   "source": [
    "model.predict(customer)[0] "
   ]
  },
  {
   "cell_type": "code",
   "execution_count": 39,
   "metadata": {},
   "outputs": [
    {
     "data": {
      "text/plain": [
       "Fecha Cierre\n",
       "2021-08-31    1.0\n",
       "Name: Client_Status_Post3Months, dtype: float64"
      ]
     },
     "execution_count": 39,
     "metadata": {},
     "output_type": "execute_result"
    }
   ],
   "source": [
    "y_test[-1:]"
   ]
  },
  {
   "cell_type": "code",
   "execution_count": 40,
   "metadata": {},
   "outputs": [
    {
     "data": {
      "text/plain": [
       "0.9522160664819944"
      ]
     },
     "execution_count": 40,
     "metadata": {},
     "output_type": "execute_result"
    }
   ],
   "source": [
    "model.score(X_test, y_test)"
   ]
  }
 ],
 "metadata": {
  "colab": {
   "collapsed_sections": [
    "gHC3XVYchp6d"
   ],
   "name": "Customer_Churn_SavingsBank_AllFeatures_long.ipynb",
   "provenance": []
  },
  "interpreter": {
   "hash": "811835dbfa265bda541e5728bad37389c3435c72610e344bad1bc057db90fb2d"
  },
  "kernelspec": {
   "display_name": "Python 3.9.5 64-bit ('customer_churn_CajaMaynas': conda)",
   "name": "python3"
  },
  "language_info": {
   "codemirror_mode": {
    "name": "ipython",
    "version": 3
   },
   "file_extension": ".py",
   "mimetype": "text/x-python",
   "name": "python",
   "nbconvert_exporter": "python",
   "pygments_lexer": "ipython3",
   "version": "3.9.5"
  }
 },
 "nbformat": 4,
 "nbformat_minor": 1
}
