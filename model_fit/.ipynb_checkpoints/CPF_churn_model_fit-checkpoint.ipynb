{
 "cells": [
  {
   "cell_type": "markdown",
   "metadata": {
    "id": "wOwjPJwVhp6T"
   },
   "source": [
    "# Customer Churn - Main Features - LogReg"
   ]
  },
  {
   "cell_type": "code",
   "execution_count": 14,
   "metadata": {
    "colab": {
     "base_uri": "https://localhost:8080/"
    },
    "id": "FhyRUr4Rhp6U",
    "outputId": "588dc42d-dc2a-4c87-eaa5-98c239831cea"
   },
   "outputs": [],
   "source": [
    "import pandas as pd\n",
    "import matplotlib.pyplot as plt\n",
    "\n",
    "from sklearn.linear_model import LogisticRegression\n",
    "from sklearn.model_selection import train_test_split\n",
    "\n",
    "from sklearn.metrics import plot_roc_curve, confusion_matrix, roc_auc_score, f1_score\n",
    "\n",
    "import pickle\n",
    "\n",
    "import warnings\n",
    "warnings.filterwarnings(\"ignore\")"
   ]
  },
  {
   "cell_type": "code",
   "execution_count": 15,
   "metadata": {},
   "outputs": [],
   "source": [
    "def include_timestamps(df):\n",
    "    \"\"\"\n",
    "    @params:\n",
    "        - df: an initial DataFrame.\n",
    "    @return:\n",
    "        - df: a DataFrame including timestamps for months and years.\n",
    "    \"\"\"\n",
    "    df[\"Year\"] = df.index.year\n",
    "    df[\"Month\"] = df.index.month\n",
    "    return df"
   ]
  },
  {
   "cell_type": "markdown",
   "metadata": {
    "id": "1UHog3Q8hp6V"
   },
   "source": [
    "### Reading in and inspecting data"
   ]
  },
  {
   "cell_type": "code",
   "execution_count": 16,
   "metadata": {
    "id": "8sXcgAu0hp6V"
   },
   "outputs": [],
   "source": [
    "df = pd.read_csv(\"../data/Tabla_01_English_Unique_postEDA.csv\", index_col=0, parse_dates=True)"
   ]
  },
  {
   "cell_type": "code",
   "execution_count": 17,
   "metadata": {
    "colab": {
     "base_uri": "https://localhost:8080/"
    },
    "id": "4CPkYId1hp6W",
    "outputId": "bcd49173-2dd7-457c-ae5e-bf045113f885"
   },
   "outputs": [
    {
     "name": "stdout",
     "output_type": "stream",
     "text": [
      "<class 'pandas.core.frame.DataFrame'>\n",
      "DatetimeIndex: 4304 entries, 2018-01-31 to 2021-05-31\n",
      "Data columns (total 24 columns):\n",
      " #   Column                                 Non-Null Count  Dtype  \n",
      "---  ------                                 --------------  -----  \n",
      " 0   Client_ID                              4304 non-null   int64  \n",
      " 1   Resident_Capital                       4304 non-null   int64  \n",
      " 2   Client_Age_Years                       4304 non-null   int64  \n",
      " 3   Client_Sex                             4304 non-null   int64  \n",
      " 4   Client_Married                         4304 non-null   int64  \n",
      " 5   Amount_Last_Disbursement               4304 non-null   float64\n",
      " 6   n(Months)_Since_Last_Disbursement      4304 non-null   int64  \n",
      " 7   n(Months)_Client_Relationship          4304 non-null   int64  \n",
      " 8   n(Months)_LO_Active_Employee           4304 non-null   int64  \n",
      " 9   Client_Status_Post3Months              4304 non-null   int64  \n",
      " 10  Client_Status_Post6Months              4304 non-null   int64  \n",
      " 11  LO_Active_Employee_Post3Months         4304 non-null   int64  \n",
      " 12  LO_Active_Employee_Post6Months         4304 non-null   int64  \n",
      " 13  n(Loans)_Outstanding_Maynas            4304 non-null   int64  \n",
      " 14  n(Loans)_Outstanding_Other             4304 non-null   int64  \n",
      " 15  n(Additional_Loans)_Post3Months        4304 non-null   int64  \n",
      " 16  n(Additional_Loans)_Post6Months        4304 non-null   int64  \n",
      " 17  Total_Accumulated_Interest_per_Client  4304 non-null   int64  \n",
      " 18  LO_Active_Employee_Prior3Months        4304 non-null   int64  \n",
      " 19  LO_Active_Employee_Prior6Months        4304 non-null   int64  \n",
      " 20  n(Additional_Loans)_Pre3Months         4304 non-null   int64  \n",
      " 21  n(Additional_Loans)_Pre6Months         4304 non-null   int64  \n",
      " 22  LO_Changed                             4304 non-null   int64  \n",
      " 23  n(Months)_Change_LO                    4304 non-null   int64  \n",
      "dtypes: float64(1), int64(23)\n",
      "memory usage: 840.6 KB\n"
     ]
    }
   ],
   "source": [
    "df.info()"
   ]
  },
  {
   "cell_type": "markdown",
   "metadata": {
    "id": "b2yjmgeihp6Z"
   },
   "source": [
    "### Split data"
   ]
  },
  {
   "cell_type": "code",
   "execution_count": 18,
   "metadata": {
    "colab": {
     "base_uri": "https://localhost:8080/"
    },
    "id": "nJli4qn2hp6Z",
    "outputId": "887402d9-0b43-48b6-dbec-7785c2e86fec"
   },
   "outputs": [
    {
     "data": {
      "text/plain": [
       "((4304, 3), (4304,))"
      ]
     },
     "execution_count": 18,
     "metadata": {},
     "output_type": "execute_result"
    }
   ],
   "source": [
    "X = df[[\"LO_Active_Employee_Post3Months\", \"LO_Active_Employee_Prior6Months\",\"LO_Active_Employee_Post6Months\"]] # features selected based on calculation of feature importance in NB \"all features\".\n",
    "y = df[\"Client_Status_Post3Months\"]  \n",
    "X.shape, y.shape"
   ]
  },
  {
   "cell_type": "code",
   "execution_count": 19,
   "metadata": {
    "id": "Fwl9wH-Thp6Z"
   },
   "outputs": [],
   "source": [
    "X_train, X_val, y_train, y_val = train_test_split(X, y, test_size=0.2, random_state=42, stratify = y) "
   ]
  },
  {
   "cell_type": "code",
   "execution_count": 20,
   "metadata": {
    "colab": {
     "base_uri": "https://localhost:8080/"
    },
    "id": "JQJY73a2hp6Z",
    "outputId": "44175f01-6063-411e-9789-292d391a2aa3"
   },
   "outputs": [
    {
     "data": {
      "text/plain": [
       "((3443, 3), (3443,), (861, 3), (861,))"
      ]
     },
     "execution_count": 20,
     "metadata": {},
     "output_type": "execute_result"
    }
   ],
   "source": [
    "X_train.shape, y_train.shape, X_val.shape, y_val.shape"
   ]
  },
  {
   "cell_type": "markdown",
   "metadata": {
    "id": "odY9IBeshp6Z"
   },
   "source": [
    "### Include timestamps"
   ]
  },
  {
   "cell_type": "code",
   "execution_count": 21,
   "metadata": {
    "colab": {
     "base_uri": "https://localhost:8080/"
    },
    "id": "w_ZC3yDEhp6Z",
    "outputId": "a1e7d4b8-9c3a-4b32-b4f7-245553904956"
   },
   "outputs": [],
   "source": [
    "X_train_timestamped = include_timestamps(X_train)"
   ]
  },
  {
   "cell_type": "code",
   "execution_count": 22,
   "metadata": {
    "colab": {
     "base_uri": "https://localhost:8080/"
    },
    "id": "EqsqoO-Php6a",
    "outputId": "4083eaf5-4927-441c-c5f2-eee60a80985e"
   },
   "outputs": [],
   "source": [
    "X_val_timestamped = include_timestamps(X_val)"
   ]
  },
  {
   "cell_type": "markdown",
   "metadata": {},
   "source": [
    "## Fit and evaluate model"
   ]
  },
  {
   "cell_type": "markdown",
   "metadata": {
    "id": "-vAwtO0Khp6a"
   },
   "source": [
    "### Fit a Logistic Regression model"
   ]
  },
  {
   "cell_type": "code",
   "execution_count": 23,
   "metadata": {},
   "outputs": [],
   "source": [
    "# Define weights for cost-sensitive learning.\n",
    "weights = {0:0.41, 1:0.59}     # rationale: taking inverse distribution of labels (see EDA on distribution of minority/majority groups).\n"
   ]
  },
  {
   "cell_type": "code",
   "execution_count": 24,
   "metadata": {},
   "outputs": [
    {
     "data": {
      "text/plain": [
       "LogisticRegression(class_weight={0: 0.41, 1: 0.59}, random_state=42)"
      ]
     },
     "execution_count": 24,
     "metadata": {},
     "output_type": "execute_result"
    }
   ],
   "source": [
    "model_LR = LogisticRegression(class_weight = weights, random_state=42) \n",
    "model_LR.fit(X_train, y_train)"
   ]
  },
  {
   "cell_type": "markdown",
   "metadata": {},
   "source": [
    "### Make predictions."
   ]
  },
  {
   "cell_type": "code",
   "execution_count": 25,
   "metadata": {},
   "outputs": [],
   "source": [
    "ypred_LR = model_LR.predict(X_val)"
   ]
  },
  {
   "cell_type": "code",
   "execution_count": 26,
   "metadata": {},
   "outputs": [
    {
     "data": {
      "text/plain": [
       "array([[0.98119289, 0.01880711],\n",
       "       [0.07725849, 0.92274151],\n",
       "       [0.29266401, 0.70733599],\n",
       "       ...,\n",
       "       [0.0773578 , 0.9226422 ],\n",
       "       [0.07715929, 0.92284071],\n",
       "       [0.77570732, 0.22429268]])"
      ]
     },
     "execution_count": 26,
     "metadata": {},
     "output_type": "execute_result"
    }
   ],
   "source": [
    "probs_LR = model_LR.predict_proba(X_val)\n",
    "probs_LR"
   ]
  },
  {
   "cell_type": "markdown",
   "metadata": {
    "id": "BdvNduoBhp6b"
   },
   "source": [
    "### Evaluate LogReg: ROC curve "
   ]
  },
  {
   "cell_type": "code",
   "execution_count": 27,
   "metadata": {
    "colab": {
     "base_uri": "https://localhost:8080/",
     "height": 279
    },
    "id": "sBjNr6nbhp6b",
    "outputId": "8f39dfeb-452b-45a9-afc1-b4413d2422da"
   },
   "outputs": [
    {
     "data": {
      "image/png": "[encoded data removed]",
      "text/plain": [
       "<Figure size 432x288 with 1 Axes>"
      ]
     },
     "metadata": {
      "needs_background": "light"
     },
     "output_type": "display_data"
    }
   ],
   "source": [
    "model_LR_disp = plot_roc_curve(model_LR, X_val, y_val)\n",
    "plt.show()"
   ]
  },
  {
   "cell_type": "markdown",
   "metadata": {},
   "source": [
    "### Evaluate LogReg: confusion matrix and AUC"
   ]
  },
  {
   "cell_type": "code",
   "execution_count": 28,
   "metadata": {},
   "outputs": [
    {
     "name": "stdout",
     "output_type": "stream",
     "text": [
      "Confusion Matrix: \n",
      "[[442  69]\n",
      " [ 25 325]]\n",
      "Area Under Curve: 0.9\n",
      "f1 - score: 0.87\n"
     ]
    }
   ],
   "source": [
    "print(f\"Confusion Matrix: \\n{confusion_matrix(y_val, ypred_LR)}\")\n",
    "print(f\"Area Under Curve: {roc_auc_score(y_val, ypred_LR).round(2)}\")\n",
    "print(f\"f1 - score: {f1_score(y_val, ypred_LR).round(2)}\")"
   ]
  },
  {
   "cell_type": "code",
   "execution_count": 29,
   "metadata": {},
   "outputs": [
    {
     "data": {
      "text/plain": [
       "0.8829509148997967"
      ]
     },
     "execution_count": 29,
     "metadata": {},
     "output_type": "execute_result"
    }
   ],
   "source": [
    "train_accuracy = model_LR.score(X_train, y_train)\n",
    "train_accuracy"
   ]
  },
  {
   "cell_type": "code",
   "execution_count": 30,
   "metadata": {},
   "outputs": [
    {
     "data": {
      "text/plain": [
       "0.8908246225319396"
      ]
     },
     "execution_count": 30,
     "metadata": {},
     "output_type": "execute_result"
    }
   ],
   "source": [
    "val_accuracy = model_LR.score(X_val, y_val)\n",
    "val_accuracy"
   ]
  },
  {
   "cell_type": "markdown",
   "metadata": {},
   "source": [
    "=> model underfits slightly..."
   ]
  },
  {
   "cell_type": "markdown",
   "metadata": {
    "id": "FDUzmgNVhp6c"
   },
   "source": [
    "### Saving fitted model."
   ]
  },
  {
   "cell_type": "code",
   "execution_count": 31,
   "metadata": {},
   "outputs": [],
   "source": [
    "with open(\"../artefacts/churn-model.bin\", \"wb\") as f_out:\n",
    "    pickle.dump(model_LR, f_out) "
   ]
  },
  {
   "cell_type": "code",
   "execution_count": null,
   "metadata": {},
   "outputs": [],
   "source": []
  }
 ],
 "metadata": {
  "colab": {
   "collapsed_sections": [
    "gHC3XVYchp6d"
   ],
   "name": "Customer_Churn_SavingsBank_AllFeatures_long.ipynb",
   "provenance": []
  },
  "interpreter": {
   "hash": "811835dbfa265bda541e5728bad37389c3435c72610e344bad1bc057db90fb2d"
  },
  "kernelspec": {
   "display_name": "Python 3 (ipykernel)",
   "language": "python",
   "name": "python3"
  },
  "language_info": {
   "codemirror_mode": {
    "name": "ipython",
    "version": 3
   },
   "file_extension": ".py",
   "mimetype": "text/x-python",
   "name": "python",
   "nbconvert_exporter": "python",
   "pygments_lexer": "ipython3",
   "version": "3.8.5"
  }
 },
 "nbformat": 4,
 "nbformat_minor": 1
}
