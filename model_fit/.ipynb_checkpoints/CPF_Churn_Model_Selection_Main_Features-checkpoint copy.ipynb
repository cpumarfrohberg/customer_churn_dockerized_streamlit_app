{
 "cells": [
  {
   "cell_type": "markdown",
   "metadata": {
    "id": "wOwjPJwVhp6T"
   },
   "source": [
    "# Customer Churn - Savings Bank - All Features"
   ]
  },
  {
   "cell_type": "code",
   "execution_count": 1,
   "metadata": {
    "colab": {
     "base_uri": "https://localhost:8080/"
    },
    "id": "FhyRUr4Rhp6U",
    "outputId": "588dc42d-dc2a-4c87-eaa5-98c239831cea"
   },
   "outputs": [],
   "source": [
    "import pandas as pd\n",
    "import matplotlib.pyplot as plt\n",
    "\n",
    "from sklearn.linear_model import LogisticRegression\n",
    "from sklearn.tree import DecisionTreeClassifier\n",
    "from sklearn.ensemble import RandomForestClassifier\n",
    "from sklearn.model_selection import train_test_split\n",
    "from sklearn.preprocessing import MinMaxScaler\n",
    "\n",
    "from sklearn.metrics import plot_roc_curve, confusion_matrix, roc_auc_score, f1_score\n",
    "\n",
    "import pickle\n",
    "\n",
    "import warnings\n",
    "warnings.filterwarnings(\"ignore\")"
   ]
  },
  {
   "cell_type": "markdown",
   "metadata": {
    "id": "1UHog3Q8hp6V"
   },
   "source": [
    "### Reading in and inspecting data"
   ]
  },
  {
   "cell_type": "code",
   "execution_count": 2,
   "metadata": {
    "id": "8sXcgAu0hp6V"
   },
   "outputs": [],
   "source": [
    "df = pd.read_csv(\"../data/Tabla_01_English_Unique_postEDA.csv\", index_col=0, parse_dates=True)\n"
   ]
  },
  {
   "cell_type": "code",
   "execution_count": 3,
   "metadata": {
    "colab": {
     "base_uri": "https://localhost:8080/"
    },
    "id": "4CPkYId1hp6W",
    "outputId": "bcd49173-2dd7-457c-ae5e-bf045113f885"
   },
   "outputs": [
    {
     "name": "stdout",
     "output_type": "stream",
     "text": [
      "<class 'pandas.core.frame.DataFrame'>\n",
      "DatetimeIndex: 4304 entries, 2018-01-31 to 2021-05-31\n",
      "Data columns (total 24 columns):\n",
      " #   Column                                 Non-Null Count  Dtype  \n",
      "---  ------                                 --------------  -----  \n",
      " 0   Client_ID                              4304 non-null   int64  \n",
      " 1   Resident_Capital                       4304 non-null   int64  \n",
      " 2   Client_Age_Years                       4304 non-null   int64  \n",
      " 3   Client_Sex                             4304 non-null   int64  \n",
      " 4   Client_Married                         4304 non-null   int64  \n",
      " 5   Amount_Last_Disbursement               4304 non-null   float64\n",
      " 6   n(Months)_Since_Last_Disbursement      4304 non-null   int64  \n",
      " 7   n(Months)_Client_Relationship          4304 non-null   int64  \n",
      " 8   n(Months)_LO_Active_Employee           4304 non-null   int64  \n",
      " 9   Client_Status_Post3Months              4304 non-null   int64  \n",
      " 10  Client_Status_Post6Months              4304 non-null   int64  \n",
      " 11  LO_Active_Employee_Post3Months         4304 non-null   int64  \n",
      " 12  LO_Active_Employee_Post6Months         4304 non-null   int64  \n",
      " 13  n(Loans)_Outstanding_Maynas            4304 non-null   int64  \n",
      " 14  n(Loans)_Outstanding_Other             4304 non-null   int64  \n",
      " 15  n(Additional_Loans)_Post3Months        4304 non-null   int64  \n",
      " 16  n(Additional_Loans)_Post6Months        4304 non-null   int64  \n",
      " 17  Total_Accumulated_Interest_per_Client  4304 non-null   int64  \n",
      " 18  LO_Active_Employee_Prior3Months        4304 non-null   int64  \n",
      " 19  LO_Active_Employee_Prior6Months        4304 non-null   int64  \n",
      " 20  n(Additional_Loans)_Pre3Months         4304 non-null   int64  \n",
      " 21  n(Additional_Loans)_Pre6Months         4304 non-null   int64  \n",
      " 22  LO_Changed                             4304 non-null   int64  \n",
      " 23  n(Months)_Change_LO                    4304 non-null   int64  \n",
      "dtypes: float64(1), int64(23)\n",
      "memory usage: 840.6 KB\n"
     ]
    },
    {
     "data": {
      "text/plain": [
       "(None, (4304, 24))"
      ]
     },
     "execution_count": 3,
     "metadata": {},
     "output_type": "execute_result"
    }
   ],
   "source": [
    "df.info(), df.shape"
   ]
  },
  {
   "cell_type": "code",
   "execution_count": 4,
   "metadata": {},
   "outputs": [
    {
     "data": {
      "text/plain": [
       "Index(['Client_ID', 'Resident_Capital', 'Client_Age_Years', 'Client_Sex',\n",
       "       'Client_Married', 'Amount_Last_Disbursement',\n",
       "       'n(Months)_Since_Last_Disbursement', 'n(Months)_Client_Relationship',\n",
       "       'n(Months)_LO_Active_Employee', 'Client_Status_Post3Months',\n",
       "       'Client_Status_Post6Months', 'LO_Active_Employee_Post3Months',\n",
       "       'LO_Active_Employee_Post6Months', 'n(Loans)_Outstanding_Maynas',\n",
       "       'n(Loans)_Outstanding_Other', 'n(Additional_Loans)_Post3Months',\n",
       "       'n(Additional_Loans)_Post6Months',\n",
       "       'Total_Accumulated_Interest_per_Client',\n",
       "       'LO_Active_Employee_Prior3Months', 'LO_Active_Employee_Prior6Months',\n",
       "       'n(Additional_Loans)_Pre3Months', 'n(Additional_Loans)_Pre6Months',\n",
       "       'LO_Changed', 'n(Months)_Change_LO'],\n",
       "      dtype='object')"
      ]
     },
     "execution_count": 4,
     "metadata": {},
     "output_type": "execute_result"
    }
   ],
   "source": [
    "df.columns"
   ]
  },
  {
   "cell_type": "markdown",
   "metadata": {
    "id": "b2yjmgeihp6Z"
   },
   "source": [
    "## Define X, y and split data (using complete dataset, i.e. years 2018 - may 2021 for fitting and evaluating models)."
   ]
  },
  {
   "cell_type": "code",
   "execution_count": 5,
   "metadata": {
    "colab": {
     "base_uri": "https://localhost:8080/"
    },
    "id": "nJli4qn2hp6Z",
    "outputId": "887402d9-0b43-48b6-dbec-7785c2e86fec"
   },
   "outputs": [
    {
     "data": {
      "text/plain": [
       "((4304, 3), (4304,))"
      ]
     },
     "execution_count": 5,
     "metadata": {},
     "output_type": "execute_result"
    }
   ],
   "source": [
    "X = df[[\"LO_Active_Employee_Post3Months\", \"LO_Active_Employee_Prior6Months\",\"LO_Active_Employee_Post6Months\"]] # features selected based on calculation of feature importance in NB \"all features\".\n",
    "y = df[\"Client_Status_Post3Months\"]  \n",
    "X.shape, y.shape"
   ]
  },
  {
   "cell_type": "code",
   "execution_count": 6,
   "metadata": {
    "id": "Fwl9wH-Thp6Z"
   },
   "outputs": [],
   "source": [
    "X_train, X_val, y_train, y_val = train_test_split(X, y, test_size=0.2, random_state=42) # no need to stratify (default includes it)"
   ]
  },
  {
   "cell_type": "code",
   "execution_count": 7,
   "metadata": {
    "colab": {
     "base_uri": "https://localhost:8080/"
    },
    "id": "JQJY73a2hp6Z",
    "outputId": "44175f01-6063-411e-9789-292d391a2aa3"
   },
   "outputs": [
    {
     "data": {
      "text/plain": [
       "((3443, 3), (3443,), (861, 3), (861,))"
      ]
     },
     "execution_count": 7,
     "metadata": {},
     "output_type": "execute_result"
    }
   ],
   "source": [
    "X_train.shape, y_train.shape, X_val.shape, y_val.shape"
   ]
  },
  {
   "cell_type": "markdown",
   "metadata": {
    "id": "odY9IBeshp6Z"
   },
   "source": [
    "### Feature Engineering: training data"
   ]
  },
  {
   "cell_type": "code",
   "execution_count": 8,
   "metadata": {
    "colab": {
     "base_uri": "https://localhost:8080/"
    },
    "id": "w_ZC3yDEhp6Z",
    "outputId": "a1e7d4b8-9c3a-4b32-b4f7-245553904956"
   },
   "outputs": [],
   "source": [
    "X_train[\"Year\"] = X_train.index.year"
   ]
  },
  {
   "cell_type": "code",
   "execution_count": 9,
   "metadata": {
    "colab": {
     "base_uri": "https://localhost:8080/"
    },
    "id": "EqsqoO-Php6a",
    "outputId": "4083eaf5-4927-441c-c5f2-eee60a80985e"
   },
   "outputs": [],
   "source": [
    "X_train[\"Month\"] = X_train.index.month"
   ]
  },
  {
   "cell_type": "code",
   "execution_count": 10,
   "metadata": {
    "colab": {
     "base_uri": "https://localhost:8080/"
    },
    "id": "35KgZvTuJmqC",
    "outputId": "24cd58f7-5aaa-4c81-92f7-804b193abd45"
   },
   "outputs": [
    {
     "data": {
      "text/plain": [
       "Index(['LO_Active_Employee_Post3Months', 'LO_Active_Employee_Prior6Months',\n",
       "       'LO_Active_Employee_Post6Months', 'Year', 'Month'],\n",
       "      dtype='object')"
      ]
     },
     "execution_count": 10,
     "metadata": {},
     "output_type": "execute_result"
    }
   ],
   "source": [
    "X_train.columns"
   ]
  },
  {
   "cell_type": "code",
   "execution_count": 11,
   "metadata": {},
   "outputs": [],
   "source": [
    "scaler = MinMaxScaler()"
   ]
  },
  {
   "cell_type": "code",
   "execution_count": 12,
   "metadata": {},
   "outputs": [],
   "source": [
    "Xtrain_scaled = scaler.fit_transform(X_train)"
   ]
  },
  {
   "cell_type": "code",
   "execution_count": 13,
   "metadata": {
    "colab": {
     "base_uri": "https://localhost:8080/"
    },
    "id": "iokTrcKlhp6a",
    "outputId": "6d85a038-0ba0-4348-ca8f-1877f82a17b7"
   },
   "outputs": [
    {
     "data": {
      "text/plain": [
       "(3443, 5)"
      ]
     },
     "execution_count": 13,
     "metadata": {},
     "output_type": "execute_result"
    }
   ],
   "source": [
    "X_train.shape"
   ]
  },
  {
   "cell_type": "markdown",
   "metadata": {
    "id": "kFahELDvhp6b"
   },
   "source": [
    "### Feature Engineering: validation data"
   ]
  },
  {
   "cell_type": "code",
   "execution_count": 14,
   "metadata": {
    "colab": {
     "base_uri": "https://localhost:8080/"
    },
    "id": "OL1OnDy1hp6b",
    "outputId": "e0920a15-f54e-45e4-98a3-52c7e981a6ae"
   },
   "outputs": [],
   "source": [
    "X_val[\"Year\"] = X_val.index.year"
   ]
  },
  {
   "cell_type": "code",
   "execution_count": 15,
   "metadata": {
    "colab": {
     "base_uri": "https://localhost:8080/"
    },
    "id": "1og2MaR_hp6b",
    "outputId": "f0929288-543f-4c8e-bb78-477b9e96d202"
   },
   "outputs": [],
   "source": [
    "X_val[\"Month\"] = X_val.index.month"
   ]
  },
  {
   "cell_type": "code",
   "execution_count": 16,
   "metadata": {
    "colab": {
     "base_uri": "https://localhost:8080/"
    },
    "id": "uUTDFPEuJxvI",
    "outputId": "665ccfc1-0297-4013-fabd-375b2605444b"
   },
   "outputs": [
    {
     "data": {
      "text/plain": [
       "Index(['LO_Active_Employee_Post3Months', 'LO_Active_Employee_Prior6Months',\n",
       "       'LO_Active_Employee_Post6Months', 'Year', 'Month'],\n",
       "      dtype='object')"
      ]
     },
     "execution_count": 16,
     "metadata": {},
     "output_type": "execute_result"
    }
   ],
   "source": [
    "X_val.columns"
   ]
  },
  {
   "cell_type": "code",
   "execution_count": 17,
   "metadata": {},
   "outputs": [],
   "source": [
    "Xval_scaled = scaler.transform(X_val)"
   ]
  },
  {
   "cell_type": "code",
   "execution_count": 18,
   "metadata": {
    "colab": {
     "base_uri": "https://localhost:8080/"
    },
    "id": "b6GKvDzdhp6b",
    "outputId": "3789c2ef-932f-4e5d-a64b-c9b8a6cb5ea6"
   },
   "outputs": [
    {
     "data": {
      "text/plain": [
       "(861, 5)"
      ]
     },
     "execution_count": 18,
     "metadata": {},
     "output_type": "execute_result"
    }
   ],
   "source": [
    "X_val.shape"
   ]
  },
  {
   "cell_type": "markdown",
   "metadata": {},
   "source": [
    "## Fit and evaluate models "
   ]
  },
  {
   "cell_type": "markdown",
   "metadata": {
    "id": "-vAwtO0Khp6a"
   },
   "source": [
    "### Fit a Logistic Regression model"
   ]
  },
  {
   "cell_type": "code",
   "execution_count": 19,
   "metadata": {},
   "outputs": [],
   "source": [
    "# Define weights for cost-sensitive learning.\n",
    "weights = {0:0.41, 1:0.59}     # rationale: taking inverse distribution of labels (see EDA on distribution of minority/majority groups).\n"
   ]
  },
  {
   "cell_type": "code",
   "execution_count": 20,
   "metadata": {},
   "outputs": [
    {
     "data": {
      "text/plain": [
       "LogisticRegression(class_weight={0: 0.41, 1: 0.59}, random_state=42)"
      ]
     },
     "execution_count": 20,
     "metadata": {},
     "output_type": "execute_result"
    }
   ],
   "source": [
    "model_LR = LogisticRegression(class_weight = weights, random_state=42) \n",
    "model_LR.fit(X_train, y_train)"
   ]
  },
  {
   "cell_type": "markdown",
   "metadata": {},
   "source": [
    "### Make predictions."
   ]
  },
  {
   "cell_type": "code",
   "execution_count": 21,
   "metadata": {},
   "outputs": [],
   "source": [
    "ypred_LR = model_LR.predict(X_val)"
   ]
  },
  {
   "cell_type": "code",
   "execution_count": 22,
   "metadata": {},
   "outputs": [
    {
     "data": {
      "text/plain": [
       "array([[0.86928382, 0.13071618],\n",
       "       [0.09239912, 0.90760088],\n",
       "       [0.95556635, 0.04443365],\n",
       "       ...,\n",
       "       [0.79068643, 0.20931357],\n",
       "       [0.06760778, 0.93239222],\n",
       "       [0.06760778, 0.93239222]])"
      ]
     },
     "execution_count": 22,
     "metadata": {},
     "output_type": "execute_result"
    }
   ],
   "source": [
    "probs_LR = model_LR.predict_proba(X_val)\n",
    "probs_LR"
   ]
  },
  {
   "cell_type": "markdown",
   "metadata": {
    "id": "BdvNduoBhp6b"
   },
   "source": [
    "### Evaluate LogReg: ROC curve "
   ]
  },
  {
   "cell_type": "code",
   "execution_count": 23,
   "metadata": {
    "colab": {
     "base_uri": "https://localhost:8080/",
     "height": 279
    },
    "id": "sBjNr6nbhp6b",
    "outputId": "8f39dfeb-452b-45a9-afc1-b4413d2422da"
   },
   "outputs": [
    {
     "data": {
      "image/png": "[encoded data removed]",
      "text/plain": [
       "<Figure size 432x288 with 1 Axes>"
      ]
     },
     "metadata": {
      "needs_background": "light"
     },
     "output_type": "display_data"
    }
   ],
   "source": [
    "model_LR_disp = plot_roc_curve(model_LR, X_val, y_val)\n",
    "plt.show()"
   ]
  },
  {
   "cell_type": "markdown",
   "metadata": {},
   "source": [
    "### Evaluate LogReg: confusion matrix and AUC"
   ]
  },
  {
   "cell_type": "code",
   "execution_count": 24,
   "metadata": {},
   "outputs": [
    {
     "name": "stdout",
     "output_type": "stream",
     "text": [
      "Confusion Matrix: \n",
      "[[453  76]\n",
      " [ 29 303]]\n",
      "Area Under Curve: 0.88\n",
      "f1 - score: 0.85\n"
     ]
    }
   ],
   "source": [
    "print(f\"Confusion Matrix: \\n{confusion_matrix(y_val, ypred_LR)}\")\n",
    "print(f\"Area Under Curve: {roc_auc_score(y_val, ypred_LR).round(2)}\")\n",
    "print(f\"f1 - score: {f1_score(y_val, ypred_LR).round(2)}\")"
   ]
  },
  {
   "cell_type": "markdown",
   "metadata": {},
   "source": [
    "Interpretation:\n",
    "- in contrast to the model LogReg model trained on all features, training the same one based on the most important features leads to clearly better results.\n",
    "- re Confusion Matrix: out of 529 predictions regarding the positive class, 86% were predicted correctly. Out of 332 predictions regarding the negative class, 9% were predicted incorrectly (false negatives).\n",
    "- f1 - score:  85%\n",
    "- re AUC: the likelihood that a randomly selected customer from the minority group is scored higher than the a randomly selected customer from the majority group is 88% (vs. model trained on all features: 50%)."
   ]
  },
  {
   "cell_type": "code",
   "execution_count": 25,
   "metadata": {},
   "outputs": [],
   "source": [
    "auc_LR = roc_auc_score(y_val, ypred_LR)\n",
    "f1_LR = f1_score(y_val, ypred_LR)"
   ]
  },
  {
   "cell_type": "code",
   "execution_count": 26,
   "metadata": {},
   "outputs": [
    {
     "data": {
      "text/plain": [
       "0.8861458030787104"
      ]
     },
     "execution_count": 26,
     "metadata": {},
     "output_type": "execute_result"
    }
   ],
   "source": [
    "train_accuracy = model_LR.score(X_train, y_train)\n",
    "train_accuracy"
   ]
  },
  {
   "cell_type": "code",
   "execution_count": 27,
   "metadata": {},
   "outputs": [
    {
     "data": {
      "text/plain": [
       "0.8780487804878049"
      ]
     },
     "execution_count": 27,
     "metadata": {},
     "output_type": "execute_result"
    }
   ],
   "source": [
    "val_accuracy = model_LR.score(X_val, y_val)\n",
    "val_accuracy"
   ]
  },
  {
   "cell_type": "markdown",
   "metadata": {},
   "source": [
    "=> while performance remains the same, with this dataset the model overfits less!"
   ]
  },
  {
   "cell_type": "markdown",
   "metadata": {
    "id": "qZEX9mVyhp6b"
   },
   "source": [
    "### Fit a Random Forest model"
   ]
  },
  {
   "cell_type": "code",
   "execution_count": 28,
   "metadata": {
    "id": "Lm8_zyVahp6b"
   },
   "outputs": [],
   "source": [
    "model_RF = RandomForestClassifier(max_depth=10, min_samples_split=3, n_estimators=63, random_state=42) # params from manual tuning"
   ]
  },
  {
   "cell_type": "code",
   "execution_count": 29,
   "metadata": {
    "colab": {
     "base_uri": "https://localhost:8080/"
    },
    "id": "DcjXZvzFKM_1",
    "outputId": "1b6da5eb-f6dc-4019-d3bf-c809e9c915b7"
   },
   "outputs": [
    {
     "data": {
      "text/plain": [
       "Fecha Cierre\n",
       "2018-07-31    0\n",
       "2018-06-30    0\n",
       "2018-07-31    0\n",
       "2021-04-30    1\n",
       "2019-01-31    1\n",
       "             ..\n",
       "2020-09-30    1\n",
       "2018-02-28    1\n",
       "2020-04-30    1\n",
       "2021-02-28    1\n",
       "2018-04-30    1\n",
       "Name: Client_Status_Post3Months, Length: 3443, dtype: int64"
      ]
     },
     "execution_count": 29,
     "metadata": {},
     "output_type": "execute_result"
    }
   ],
   "source": [
    "X_train.copy()\n",
    "y_train.copy()"
   ]
  },
  {
   "cell_type": "code",
   "execution_count": 30,
   "metadata": {
    "colab": {
     "base_uri": "https://localhost:8080/"
    },
    "id": "FdIsbfG4kh21",
    "outputId": "d282ddef-8e9e-44f8-8e16-0504e0be221e"
   },
   "outputs": [
    {
     "data": {
      "text/plain": [
       "RandomForestClassifier(max_depth=10, min_samples_split=3, n_estimators=63,\n",
       "                       random_state=42)"
      ]
     },
     "execution_count": 30,
     "metadata": {},
     "output_type": "execute_result"
    }
   ],
   "source": [
    "model_RF.fit(X_train, y_train)"
   ]
  },
  {
   "cell_type": "markdown",
   "metadata": {},
   "source": [
    "### Make predictions."
   ]
  },
  {
   "cell_type": "code",
   "execution_count": 31,
   "metadata": {
    "colab": {
     "base_uri": "https://localhost:8080/"
    },
    "id": "8GBqDksyKlvS",
    "outputId": "e824b652-7ada-49ba-8598-738bb544e04e"
   },
   "outputs": [],
   "source": [
    "ypred_RF = model_RF.predict(X_val)\n"
   ]
  },
  {
   "cell_type": "code",
   "execution_count": 32,
   "metadata": {},
   "outputs": [
    {
     "data": {
      "text/plain": [
       "array([[0.93731377, 0.06268623],\n",
       "       [0.        , 1.        ],\n",
       "       [0.87257373, 0.12742627],\n",
       "       ...,\n",
       "       [0.95455118, 0.04544882],\n",
       "       [0.        , 1.        ],\n",
       "       [0.        , 1.        ]])"
      ]
     },
     "execution_count": 32,
     "metadata": {},
     "output_type": "execute_result"
    }
   ],
   "source": [
    "probs_RF = model_RF.predict_proba(X_val) \n",
    "probs_RF"
   ]
  },
  {
   "cell_type": "markdown",
   "metadata": {
    "id": "Pv94Ffz_hp6b"
   },
   "source": [
    "### Evaluate Random Forest: ROC curve "
   ]
  },
  {
   "cell_type": "code",
   "execution_count": 33,
   "metadata": {
    "colab": {
     "base_uri": "https://localhost:8080/",
     "height": 279
    },
    "id": "7uP9sPkHhp6b",
    "outputId": "2bc58626-c387-40dc-e885-e43aa3296f08"
   },
   "outputs": [
    {
     "data": {
      "image/png": "[encoded data removed]",
      "text/plain": [
       "<Figure size 432x288 with 1 Axes>"
      ]
     },
     "metadata": {
      "needs_background": "light"
     },
     "output_type": "display_data"
    }
   ],
   "source": [
    "ax = plt.gca()\n",
    "\n",
    "model_RF_disp = plot_roc_curve(model_RF, X_val, y_val, ax=ax, alpha=0.8)\n",
    "model_LR_disp.plot(ax=ax, alpha=0.8)\n",
    "\n",
    "plt.show() "
   ]
  },
  {
   "cell_type": "markdown",
   "metadata": {},
   "source": [
    "### Evaluate Random Forest: confusion matrix and AUC"
   ]
  },
  {
   "cell_type": "code",
   "execution_count": 34,
   "metadata": {},
   "outputs": [
    {
     "name": "stdout",
     "output_type": "stream",
     "text": [
      "Confusion Matrix: \n",
      "[[529   0]\n",
      " [ 39 293]]\n",
      "Area Under Curve: 0.94\n",
      "f1 - score: 0.94\n"
     ]
    }
   ],
   "source": [
    "print(f\"Confusion Matrix: \\n{confusion_matrix(y_val, ypred_RF)}\")\n",
    "print(f\"Area Under Curve: {roc_auc_score(y_val, ypred_RF).round(2)}\")\n",
    "print(f\"f1 - score: {f1_score(y_val, ypred_RF).round(2)}\")"
   ]
  },
  {
   "cell_type": "code",
   "execution_count": 35,
   "metadata": {},
   "outputs": [],
   "source": [
    "auc_RF = roc_auc_score(y_val, ypred_RF)\n",
    "f1_RF = f1_score(y_val, ypred_RF)"
   ]
  },
  {
   "cell_type": "markdown",
   "metadata": {},
   "source": [
    "Interpretation:\n",
    "- re Confusion Matrix: out of 529 predictions regarding the positive class, 100% were predicted correctly. Model seems to be overfitting!\n",
    "- Out of 332 predictions regarding the negative class, 12% were predicted incorrectly (false negatives).\n",
    "- f1 - score:  94% (vs. initially 93%)\n",
    "- re AUC: the likelihood that a randomly selected customer from the minority group is scored higher than the a randomly selected customer from the majority group is 94% - as in first version."
   ]
  },
  {
   "cell_type": "code",
   "execution_count": 36,
   "metadata": {},
   "outputs": [
    {
     "data": {
      "text/plain": [
       "0.9648562300319489"
      ]
     },
     "execution_count": 36,
     "metadata": {},
     "output_type": "execute_result"
    }
   ],
   "source": [
    "train_accuracy = model_RF.score(X_train, y_train)\n",
    "train_accuracy"
   ]
  },
  {
   "cell_type": "code",
   "execution_count": 37,
   "metadata": {},
   "outputs": [
    {
     "data": {
      "text/plain": [
       "0.9547038327526133"
      ]
     },
     "execution_count": 37,
     "metadata": {},
     "output_type": "execute_result"
    }
   ],
   "source": [
    "val_accuracy = model_RF.score(X_val, y_val)\n",
    "val_accuracy"
   ]
  },
  {
   "cell_type": "markdown",
   "metadata": {},
   "source": [
    "=> reduction in overfitting!"
   ]
  },
  {
   "cell_type": "markdown",
   "metadata": {
    "id": "kp9Ql1rqhp6c"
   },
   "source": [
    "### Fit a Decision Tree model"
   ]
  },
  {
   "cell_type": "code",
   "execution_count": 38,
   "metadata": {
    "id": "bOBAlakehp6c"
   },
   "outputs": [],
   "source": [
    "model_DT = DecisionTreeClassifier(max_depth=6, random_state=42) # param from manual tuning"
   ]
  },
  {
   "cell_type": "code",
   "execution_count": 39,
   "metadata": {
    "colab": {
     "base_uri": "https://localhost:8080/"
    },
    "id": "R_B5PN6RLbie",
    "outputId": "0834bd69-c4a4-4445-8661-6a9abe0be58b"
   },
   "outputs": [
    {
     "data": {
      "text/plain": [
       "Fecha Cierre\n",
       "2018-07-31    0\n",
       "2018-06-30    0\n",
       "2018-07-31    0\n",
       "2021-04-30    1\n",
       "2019-01-31    1\n",
       "             ..\n",
       "2020-09-30    1\n",
       "2018-02-28    1\n",
       "2020-04-30    1\n",
       "2021-02-28    1\n",
       "2018-04-30    1\n",
       "Name: Client_Status_Post3Months, Length: 3443, dtype: int64"
      ]
     },
     "execution_count": 39,
     "metadata": {},
     "output_type": "execute_result"
    }
   ],
   "source": [
    "X_train.copy()\n",
    "y_train.copy()"
   ]
  },
  {
   "cell_type": "code",
   "execution_count": 40,
   "metadata": {
    "colab": {
     "base_uri": "https://localhost:8080/"
    },
    "id": "UH8fWjdahp6c",
    "outputId": "c7b97320-beeb-486a-fcc6-ef9c13880143"
   },
   "outputs": [
    {
     "data": {
      "text/plain": [
       "DecisionTreeClassifier(max_depth=6, random_state=42)"
      ]
     },
     "execution_count": 40,
     "metadata": {},
     "output_type": "execute_result"
    }
   ],
   "source": [
    "model_DT.fit(X_train, y_train)"
   ]
  },
  {
   "cell_type": "markdown",
   "metadata": {},
   "source": [
    "### Make predictions."
   ]
  },
  {
   "cell_type": "code",
   "execution_count": 41,
   "metadata": {
    "colab": {
     "base_uri": "https://localhost:8080/"
    },
    "id": "F-yYj3pnhp6c",
    "outputId": "b63d40a2-04c2-434c-cb7a-21ca0ea5cc4f"
   },
   "outputs": [],
   "source": [
    "ypred_DT = model_DT.predict(X_val)"
   ]
  },
  {
   "cell_type": "code",
   "execution_count": 42,
   "metadata": {
    "colab": {
     "base_uri": "https://localhost:8080/"
    },
    "id": "pCOe2-bihp6c",
    "outputId": "cbe15680-4937-42e7-d4a2-7c0646004c7f"
   },
   "outputs": [
    {
     "data": {
      "text/plain": [
       "array([[0.93478261, 0.06521739],\n",
       "       [0.01856148, 0.98143852],\n",
       "       [0.88495575, 0.11504425],\n",
       "       ...,\n",
       "       [0.95959596, 0.04040404],\n",
       "       [0.01856148, 0.98143852],\n",
       "       [0.01856148, 0.98143852]])"
      ]
     },
     "execution_count": 42,
     "metadata": {},
     "output_type": "execute_result"
    }
   ],
   "source": [
    "probs_DT = model_DT.predict_proba(X_val)\n",
    "probs_DT"
   ]
  },
  {
   "cell_type": "markdown",
   "metadata": {},
   "source": [
    "### Evaluate Decision Tree: ROC curve "
   ]
  },
  {
   "cell_type": "code",
   "execution_count": 43,
   "metadata": {
    "colab": {
     "base_uri": "https://localhost:8080/",
     "height": 279
    },
    "id": "WTFUPgaQhp6c",
    "outputId": "833e8f9f-98f3-40c7-cf3f-9dcb94a5def2"
   },
   "outputs": [
    {
     "data": {
      "image/png": "[encoded data removed]",
      "text/plain": [
       "<Figure size 432x288 with 1 Axes>"
      ]
     },
     "metadata": {
      "needs_background": "light"
     },
     "output_type": "display_data"
    }
   ],
   "source": [
    "ax = plt.gca()\n",
    "\n",
    "model_DT_disp = plot_roc_curve(model_DT, X_val, y_val, ax=ax, alpha=0.8)\n",
    "model_RF_disp.plot(ax=ax, alpha=0.8)\n",
    "model_LR_disp.plot(ax=ax, alpha=0.8)\n",
    "\n",
    "plt.show()"
   ]
  },
  {
   "cell_type": "markdown",
   "metadata": {},
   "source": [
    "### Evaluate Decision Tree: confusion matrix and AUC"
   ]
  },
  {
   "cell_type": "code",
   "execution_count": 44,
   "metadata": {},
   "outputs": [
    {
     "name": "stdout",
     "output_type": "stream",
     "text": [
      "Confusion Matrix: \n",
      "[[509  20]\n",
      " [ 35 297]]\n",
      "Area Under Curve: 0.93\n",
      "f1 - score: 0.92\n"
     ]
    }
   ],
   "source": [
    "print(f\"Confusion Matrix: \\n{confusion_matrix(y_val, ypred_DT)}\")\n",
    "print(f\"Area Under Curve: {roc_auc_score(y_val, ypred_DT).round(2)}\")\n",
    "print(f\"f1 - score: {f1_score(y_val, ypred_DT).round(2)}\")"
   ]
  },
  {
   "cell_type": "code",
   "execution_count": 45,
   "metadata": {},
   "outputs": [],
   "source": [
    "auc_DT = roc_auc_score(y_val, ypred_DT)\n",
    "f1_DT = f1_score(y_val, ypred_DT)"
   ]
  },
  {
   "cell_type": "markdown",
   "metadata": {},
   "source": [
    "Interpretation:\n",
    "- re Confusion Matrix: out of 332 predictions regarding the positive class, 90% were predicted correctly. As such, DT shows best precision of all models. Out of 529 predictions regarding the negative class, 6% were predicted incorrectly (false negatives). \n",
    "- f1 - score = 89.95% \n",
    "- re AUC: the likelihood that a randomly selected customer from the minority group is scored higher than the a randomly selected customer from the majority group is 92% in the case of a Decision Tree classifier (vs. 94% of a Random Forest classifier)."
   ]
  },
  {
   "cell_type": "code",
   "execution_count": 46,
   "metadata": {},
   "outputs": [
    {
     "data": {
      "text/plain": [
       "0.9433633459192564"
      ]
     },
     "execution_count": 46,
     "metadata": {},
     "output_type": "execute_result"
    }
   ],
   "source": [
    "train_accuracy = model_DT.score(X_train, y_train)\n",
    "train_accuracy"
   ]
  },
  {
   "cell_type": "code",
   "execution_count": 47,
   "metadata": {},
   "outputs": [
    {
     "data": {
      "text/plain": [
       "0.9361207897793263"
      ]
     },
     "execution_count": 47,
     "metadata": {},
     "output_type": "execute_result"
    }
   ],
   "source": [
    "val_accuracy = model_DT.score(X_val, y_val)\n",
    "val_accuracy"
   ]
  },
  {
   "cell_type": "markdown",
   "metadata": {},
   "source": [
    "=> reduction in overfitting!"
   ]
  },
  {
   "cell_type": "markdown",
   "metadata": {},
   "source": [
    "### Summary model evaluation: AUC"
   ]
  },
  {
   "cell_type": "code",
   "execution_count": 48,
   "metadata": {},
   "outputs": [
    {
     "data": {
      "text/html": [
       "<div>\n",
       "<style scoped>\n",
       "    .dataframe tbody tr th:only-of-type {\n",
       "        vertical-align: middle;\n",
       "    }\n",
       "\n",
       "    .dataframe tbody tr th {\n",
       "        vertical-align: top;\n",
       "    }\n",
       "\n",
       "    .dataframe thead th {\n",
       "        text-align: right;\n",
       "    }\n",
       "</style>\n",
       "<table border=\"1\" class=\"dataframe\">\n",
       "  <thead>\n",
       "    <tr style=\"text-align: right;\">\n",
       "      <th></th>\n",
       "      <th>auc</th>\n",
       "    </tr>\n",
       "    <tr>\n",
       "      <th>Model</th>\n",
       "      <th></th>\n",
       "    </tr>\n",
       "  </thead>\n",
       "  <tbody>\n",
       "    <tr>\n",
       "      <th>RF</th>\n",
       "      <td>0.941265</td>\n",
       "    </tr>\n",
       "    <tr>\n",
       "      <th>Tree</th>\n",
       "      <td>0.928386</td>\n",
       "    </tr>\n",
       "    <tr>\n",
       "      <th>LogReg</th>\n",
       "      <td>0.884492</td>\n",
       "    </tr>\n",
       "  </tbody>\n",
       "</table>\n",
       "</div>"
      ],
      "text/plain": [
       "             auc\n",
       "Model           \n",
       "RF      0.941265\n",
       "Tree    0.928386\n",
       "LogReg  0.884492"
      ]
     },
     "execution_count": 48,
     "metadata": {},
     "output_type": "execute_result"
    }
   ],
   "source": [
    "auc = [[\"LogReg\", auc_LR], [\"Tree\",  auc_DT], [\"RF\",  auc_RF]]\n",
    "auc  = pd.DataFrame(auc , columns = [\"Model\", \"auc\"])\n",
    "auc.sort_values(by=[\"auc\"], inplace=True, ascending = False)\n",
    "auc.set_index([\"Model\"])"
   ]
  },
  {
   "cell_type": "markdown",
   "metadata": {},
   "source": [
    "### Summary model evaluation: f1 - score"
   ]
  },
  {
   "cell_type": "code",
   "execution_count": 49,
   "metadata": {},
   "outputs": [
    {
     "data": {
      "text/html": [
       "<div>\n",
       "<style scoped>\n",
       "    .dataframe tbody tr th:only-of-type {\n",
       "        vertical-align: middle;\n",
       "    }\n",
       "\n",
       "    .dataframe tbody tr th {\n",
       "        vertical-align: top;\n",
       "    }\n",
       "\n",
       "    .dataframe thead th {\n",
       "        text-align: right;\n",
       "    }\n",
       "</style>\n",
       "<table border=\"1\" class=\"dataframe\">\n",
       "  <thead>\n",
       "    <tr style=\"text-align: right;\">\n",
       "      <th></th>\n",
       "      <th>f1</th>\n",
       "    </tr>\n",
       "    <tr>\n",
       "      <th>Model</th>\n",
       "      <th></th>\n",
       "    </tr>\n",
       "  </thead>\n",
       "  <tbody>\n",
       "    <tr>\n",
       "      <th>RF</th>\n",
       "      <td>0.937600</td>\n",
       "    </tr>\n",
       "    <tr>\n",
       "      <th>Tree</th>\n",
       "      <td>0.915254</td>\n",
       "    </tr>\n",
       "    <tr>\n",
       "      <th>LogReg</th>\n",
       "      <td>0.852321</td>\n",
       "    </tr>\n",
       "  </tbody>\n",
       "</table>\n",
       "</div>"
      ],
      "text/plain": [
       "              f1\n",
       "Model           \n",
       "RF      0.937600\n",
       "Tree    0.915254\n",
       "LogReg  0.852321"
      ]
     },
     "execution_count": 49,
     "metadata": {},
     "output_type": "execute_result"
    }
   ],
   "source": [
    "f1 = [[\"LogReg\", f1_LR], [\"Tree\",  f1_DT], [\"RF\",  f1_RF]]\n",
    "f1  = pd.DataFrame(f1 , columns = [\"Model\", \"f1\"])\n",
    "f1.sort_values(by=[\"f1\"], inplace=True, ascending = False)\n",
    "f1.set_index([\"Model\"])"
   ]
  },
  {
   "cell_type": "markdown",
   "metadata": {
    "id": "UVHlA5BaE4L_"
   },
   "source": [
    "#### Interpretation\n",
    "* Random Forest Model shows best performance (based on AUC and f1-score).\n",
    "* Both RF as well as Tree perform better than LogReg.\n",
    "* All models tend to overfit less than with the complete dataset.\n",
    "* LogReg suffers performance, in comparison with model trained on all features."
   ]
  },
  {
   "cell_type": "markdown",
   "metadata": {
    "id": "FDUzmgNVhp6c"
   },
   "source": [
    "## Saving the Random Forest model."
   ]
  },
  {
   "cell_type": "code",
   "execution_count": 50,
   "metadata": {},
   "outputs": [],
   "source": [
    "with open(\"../artefacts/churn-model.bin\", \"wb\") as f_out:\n",
    "    pickle.dump(model_RF, f_out) "
   ]
  }
 ],
 "metadata": {
  "colab": {
   "collapsed_sections": [
    "gHC3XVYchp6d"
   ],
   "name": "Customer_Churn_SavingsBank_AllFeatures_long.ipynb",
   "provenance": []
  },
  "interpreter": {
   "hash": "811835dbfa265bda541e5728bad37389c3435c72610e344bad1bc057db90fb2d"
  },
  "kernelspec": {
   "display_name": "Python 3",
   "language": "python",
   "name": "python3"
  },
  "language_info": {
   "codemirror_mode": {
    "name": "ipython",
    "version": 3
   },
   "file_extension": ".py",
   "mimetype": "text/x-python",
   "name": "python",
   "nbconvert_exporter": "python",
   "pygments_lexer": "ipython3",
   "version": "3.8.5"
  }
 },
 "nbformat": 4,
 "nbformat_minor": 1
}
